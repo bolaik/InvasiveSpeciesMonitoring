{
 "cells": [
  {
   "cell_type": "markdown",
   "metadata": {},
   "source": [
    "# Pretrained model on Invasive species classification\n",
    "\n",
    "## train only with added layers\n",
    "\n",
    "- The model relies on VGG-16 pretrained model, with `include_top=False`. On top of that, a nn with (1) Dense layer 256 neurons, (2) Output layer 1 neuron, with sigmoid classification.\n",
    "- This model is revised the previous brutal model, here only the further added top model is trainable.\n",
    "- Data augmentation is applied upon traing every batch.\n",
    "\n",
    "## fine tune all bottom layers together with added layers"
   ]
  },
  {
   "cell_type": "code",
   "execution_count": 1,
   "metadata": {
    "collapsed": true
   },
   "outputs": [],
   "source": [
    "import matplotlib.pyplot as plt\n",
    "%matplotlib inline\n",
    "import numpy as np\n",
    "import pandas as pd\n",
    "import cv2\n",
    "import math\n",
    "from glob import glob\n",
    "import os\n",
    "import sys\n",
    "interpolation = cv2.INTER_AREA"
   ]
  },
  {
   "cell_type": "markdown",
   "metadata": {},
   "source": [
    "## Preprocess training images"
   ]
  },
  {
   "cell_type": "code",
   "execution_count": 2,
   "metadata": {
    "collapsed": false
   },
   "outputs": [],
   "source": [
    "master = pd.read_csv(\"../input/train_labels.csv\")\n",
    "img_path = \"../input/train/\"\n",
    "\n",
    "y = []\n",
    "file_paths = []\n",
    "for i in range(len(master)):\n",
    "    file_paths.append( img_path + str(master.iloc[i, 0]) +'.jpg' ) # .ix same as .iloc\n",
    "    y.append(master.iloc[i,1])\n",
    "y = np.array(y)"
   ]
  },
  {
   "cell_type": "markdown",
   "metadata": {},
   "source": [
    "#### This group of functions perfrom preprocessing of input training images\n",
    "\n",
    "- `centering_image`: input `img` has max size 256, and the other dim < 256. This function does zero_padding to make the `img` to size 256 x 256 x 3\n",
    "- The input raw image is first resized by the same percentage in col and row, the output image is feed to `cetering_image`\n",
    "- After that, the img is cropped to size 224 x 224 x 3"
   ]
  },
  {
   "cell_type": "code",
   "execution_count": 3,
   "metadata": {
    "collapsed": false
   },
   "outputs": [
    {
     "name": "stdout",
     "output_type": "stream",
     "text": [
      " ../input/train/2295.jpg from total 2295 images"
     ]
    }
   ],
   "source": [
    "def centering_image(img):\n",
    "    size = [256,256]\n",
    "    \n",
    "    img_size = img.shape[:2]\n",
    "    \n",
    "    # centering\n",
    "    row = (size[1] - img_size[0]) // 2\n",
    "    col = (size[0] - img_size[1]) // 2\n",
    "    resized = np.zeros(list(size) + [img.shape[2]], dtype=np.uint8)\n",
    "    resized[row:(row + img.shape[0]), col:(col + img.shape[1])] = img\n",
    "\n",
    "    return resized\n",
    "\n",
    "\n",
    "X = []\n",
    "for i, file_path in enumerate(file_paths):\n",
    "    sys.stdout.write(\"\\r {0} from total {1} images\".format(file_path, len(file_paths)))\n",
    "    sys.stdout.flush()\n",
    "    #read image\n",
    "    img = cv2.imread(file_path)\n",
    "    img = cv2.cvtColor(img, cv2.COLOR_BGR2RGB) \n",
    "    #resize\n",
    "    if(img.shape[0] > img.shape[1]):\n",
    "        tile_size = (int(img.shape[1]*256/img.shape[0]),256)\n",
    "    else:\n",
    "        tile_size = (256, int(img.shape[0]*256/img.shape[1]))\n",
    "    img = cv2.resize(img, dsize=tile_size, interpolation=interpolation)\n",
    "    #centering\n",
    "    img = centering_image(img)\n",
    "    #out put 224*224px \n",
    "    img = img[16:240, 16:240]\n",
    "    img = img.astype('float32')\n",
    "    img /= 255.0\n",
    "    X.append(img)\n",
    "\n",
    "X = np.array(X)"
   ]
  },
  {
   "cell_type": "markdown",
   "metadata": {},
   "source": [
    "## Train-test splitting"
   ]
  },
  {
   "cell_type": "code",
   "execution_count": 4,
   "metadata": {
    "collapsed": false
   },
   "outputs": [
    {
     "name": "stdout",
     "output_type": "stream",
     "text": [
      "X_train (1836, 224, 224, 3)\n",
      "y_train (1836,)\n",
      "X_val (459, 224, 224, 3)\n",
      "y_val (459,)\n"
     ]
    }
   ],
   "source": [
    "from sklearn.model_selection import train_test_split\n",
    "X_train, X_val, y_train, y_val = train_test_split(X, y, test_size=0.2, random_state=2017)\n",
    "\n",
    "print('X_train', X_train.shape)\n",
    "print('y_train', y_train.shape)\n",
    "print('X_val', X_val.shape)\n",
    "print('y_val', y_val.shape)"
   ]
  },
  {
   "cell_type": "markdown",
   "metadata": {},
   "source": [
    "## Using Keras VGG-16 pretrained model"
   ]
  },
  {
   "cell_type": "code",
   "execution_count": 20,
   "metadata": {
    "collapsed": false
   },
   "outputs": [],
   "source": [
    "from keras.models import Sequential, Model, load_model\n",
    "from keras import applications\n",
    "from keras import optimizers\n",
    "from keras.layers import Dropout, Flatten, Dense, BatchNormalization, Activation\n",
    "\n",
    "img_rows, img_cols, img_channel = 224, 224, 3\n",
    "\n",
    "base_model = applications.VGG16(weights='imagenet', include_top=False, \n",
    "                                input_shape=(img_rows, img_cols, img_channel))"
   ]
  },
  {
   "cell_type": "code",
   "execution_count": 21,
   "metadata": {
    "collapsed": true
   },
   "outputs": [],
   "source": [
    "x = base_model.output\n",
    "x = Flatten()(x)\n",
    "x = Dense(2048)(x)\n",
    "x = BatchNormalization()(x)\n",
    "x = Activation('relu')(x)\n",
    "x = Dropout(rate=0.65)(x)\n",
    "x = Dense(512)(x)\n",
    "x = BatchNormalization()(x)\n",
    "x = Activation('relu')(x)\n",
    "x = Dropout(rate=0.55)(x)\n",
    "predictions = Dense(1, activation='sigmoid')(x)\n",
    "\n",
    "model = Model(inputs=base_model.input, outputs=predictions)\n",
    "model.compile(loss='binary_crossentropy', optimizer=optimizers.Adam(lr=1e-3, decay=0.95), metrics=['accuracy'])"
   ]
  },
  {
   "cell_type": "code",
   "execution_count": 22,
   "metadata": {
    "collapsed": false
   },
   "outputs": [
    {
     "name": "stdout",
     "output_type": "stream",
     "text": [
      "_________________________________________________________________\n",
      "Layer (type)                 Output Shape              Param #   \n",
      "=================================================================\n",
      "input_2 (InputLayer)         (None, 224, 224, 3)       0         \n",
      "_________________________________________________________________\n",
      "block1_conv1 (Conv2D)        (None, 224, 224, 64)      1792      \n",
      "_________________________________________________________________\n",
      "block1_conv2 (Conv2D)        (None, 224, 224, 64)      36928     \n",
      "_________________________________________________________________\n",
      "block1_pool (MaxPooling2D)   (None, 112, 112, 64)      0         \n",
      "_________________________________________________________________\n",
      "block2_conv1 (Conv2D)        (None, 112, 112, 128)     73856     \n",
      "_________________________________________________________________\n",
      "block2_conv2 (Conv2D)        (None, 112, 112, 128)     147584    \n",
      "_________________________________________________________________\n",
      "block2_pool (MaxPooling2D)   (None, 56, 56, 128)       0         \n",
      "_________________________________________________________________\n",
      "block3_conv1 (Conv2D)        (None, 56, 56, 256)       295168    \n",
      "_________________________________________________________________\n",
      "block3_conv2 (Conv2D)        (None, 56, 56, 256)       590080    \n",
      "_________________________________________________________________\n",
      "block3_conv3 (Conv2D)        (None, 56, 56, 256)       590080    \n",
      "_________________________________________________________________\n",
      "block3_pool (MaxPooling2D)   (None, 28, 28, 256)       0         \n",
      "_________________________________________________________________\n",
      "block4_conv1 (Conv2D)        (None, 28, 28, 512)       1180160   \n",
      "_________________________________________________________________\n",
      "block4_conv2 (Conv2D)        (None, 28, 28, 512)       2359808   \n",
      "_________________________________________________________________\n",
      "block4_conv3 (Conv2D)        (None, 28, 28, 512)       2359808   \n",
      "_________________________________________________________________\n",
      "block4_pool (MaxPooling2D)   (None, 14, 14, 512)       0         \n",
      "_________________________________________________________________\n",
      "block5_conv1 (Conv2D)        (None, 14, 14, 512)       2359808   \n",
      "_________________________________________________________________\n",
      "block5_conv2 (Conv2D)        (None, 14, 14, 512)       2359808   \n",
      "_________________________________________________________________\n",
      "block5_conv3 (Conv2D)        (None, 14, 14, 512)       2359808   \n",
      "_________________________________________________________________\n",
      "block5_pool (MaxPooling2D)   (None, 7, 7, 512)         0         \n",
      "_________________________________________________________________\n",
      "flatten_2 (Flatten)          (None, 25088)             0         \n",
      "_________________________________________________________________\n",
      "dense_4 (Dense)              (None, 2048)              51382272  \n",
      "_________________________________________________________________\n",
      "batch_normalization_3 (Batch (None, 2048)              8192      \n",
      "_________________________________________________________________\n",
      "activation_3 (Activation)    (None, 2048)              0         \n",
      "_________________________________________________________________\n",
      "dropout_3 (Dropout)          (None, 2048)              0         \n",
      "_________________________________________________________________\n",
      "dense_5 (Dense)              (None, 512)               1049088   \n",
      "_________________________________________________________________\n",
      "batch_normalization_4 (Batch (None, 512)               2048      \n",
      "_________________________________________________________________\n",
      "activation_4 (Activation)    (None, 512)               0         \n",
      "_________________________________________________________________\n",
      "dropout_4 (Dropout)          (None, 512)               0         \n",
      "_________________________________________________________________\n",
      "dense_6 (Dense)              (None, 1)                 513       \n",
      "=================================================================\n",
      "Total params: 67,156,801\n",
      "Trainable params: 67,151,681\n",
      "Non-trainable params: 5,120\n",
      "_________________________________________________________________\n"
     ]
    }
   ],
   "source": [
    "model.summary()"
   ]
  },
  {
   "cell_type": "markdown",
   "metadata": {},
   "source": [
    "Set the layers of the pretrained vgg16 model to be fixed."
   ]
  },
  {
   "cell_type": "code",
   "execution_count": 23,
   "metadata": {
    "collapsed": true
   },
   "outputs": [],
   "source": [
    "for layer in model.layers[:19]:\n",
    "    layer.trainable = False"
   ]
  },
  {
   "cell_type": "code",
   "execution_count": 24,
   "metadata": {
    "collapsed": false
   },
   "outputs": [
    {
     "name": "stdout",
     "output_type": "stream",
     "text": [
      "_________________________________________________________________\n",
      "Layer (type)                 Output Shape              Param #   \n",
      "=================================================================\n",
      "input_2 (InputLayer)         (None, 224, 224, 3)       0         \n",
      "_________________________________________________________________\n",
      "block1_conv1 (Conv2D)        (None, 224, 224, 64)      1792      \n",
      "_________________________________________________________________\n",
      "block1_conv2 (Conv2D)        (None, 224, 224, 64)      36928     \n",
      "_________________________________________________________________\n",
      "block1_pool (MaxPooling2D)   (None, 112, 112, 64)      0         \n",
      "_________________________________________________________________\n",
      "block2_conv1 (Conv2D)        (None, 112, 112, 128)     73856     \n",
      "_________________________________________________________________\n",
      "block2_conv2 (Conv2D)        (None, 112, 112, 128)     147584    \n",
      "_________________________________________________________________\n",
      "block2_pool (MaxPooling2D)   (None, 56, 56, 128)       0         \n",
      "_________________________________________________________________\n",
      "block3_conv1 (Conv2D)        (None, 56, 56, 256)       295168    \n",
      "_________________________________________________________________\n",
      "block3_conv2 (Conv2D)        (None, 56, 56, 256)       590080    \n",
      "_________________________________________________________________\n",
      "block3_conv3 (Conv2D)        (None, 56, 56, 256)       590080    \n",
      "_________________________________________________________________\n",
      "block3_pool (MaxPooling2D)   (None, 28, 28, 256)       0         \n",
      "_________________________________________________________________\n",
      "block4_conv1 (Conv2D)        (None, 28, 28, 512)       1180160   \n",
      "_________________________________________________________________\n",
      "block4_conv2 (Conv2D)        (None, 28, 28, 512)       2359808   \n",
      "_________________________________________________________________\n",
      "block4_conv3 (Conv2D)        (None, 28, 28, 512)       2359808   \n",
      "_________________________________________________________________\n",
      "block4_pool (MaxPooling2D)   (None, 14, 14, 512)       0         \n",
      "_________________________________________________________________\n",
      "block5_conv1 (Conv2D)        (None, 14, 14, 512)       2359808   \n",
      "_________________________________________________________________\n",
      "block5_conv2 (Conv2D)        (None, 14, 14, 512)       2359808   \n",
      "_________________________________________________________________\n",
      "block5_conv3 (Conv2D)        (None, 14, 14, 512)       2359808   \n",
      "_________________________________________________________________\n",
      "block5_pool (MaxPooling2D)   (None, 7, 7, 512)         0         \n",
      "_________________________________________________________________\n",
      "flatten_2 (Flatten)          (None, 25088)             0         \n",
      "_________________________________________________________________\n",
      "dense_4 (Dense)              (None, 2048)              51382272  \n",
      "_________________________________________________________________\n",
      "batch_normalization_3 (Batch (None, 2048)              8192      \n",
      "_________________________________________________________________\n",
      "activation_3 (Activation)    (None, 2048)              0         \n",
      "_________________________________________________________________\n",
      "dropout_3 (Dropout)          (None, 2048)              0         \n",
      "_________________________________________________________________\n",
      "dense_5 (Dense)              (None, 512)               1049088   \n",
      "_________________________________________________________________\n",
      "batch_normalization_4 (Batch (None, 512)               2048      \n",
      "_________________________________________________________________\n",
      "activation_4 (Activation)    (None, 512)               0         \n",
      "_________________________________________________________________\n",
      "dropout_4 (Dropout)          (None, 512)               0         \n",
      "_________________________________________________________________\n",
      "dense_6 (Dense)              (None, 1)                 513       \n",
      "=================================================================\n",
      "Total params: 67,156,801\n",
      "Trainable params: 52,436,993\n",
      "Non-trainable params: 14,719,808\n",
      "_________________________________________________________________\n"
     ]
    }
   ],
   "source": [
    "model.summary()"
   ]
  },
  {
   "cell_type": "markdown",
   "metadata": {},
   "source": [
    "### Model fitting with data augmentation"
   ]
  },
  {
   "cell_type": "code",
   "execution_count": 10,
   "metadata": {
    "collapsed": false,
    "scrolled": false
   },
   "outputs": [
    {
     "name": "stdout",
     "output_type": "stream",
     "text": [
      "Epoch 1/40\n",
      "128s - loss: 0.5000 - acc: 0.7752 - val_loss: 1.2303 - val_acc: 0.6580\n",
      "Epoch 2/40\n",
      "120s - loss: 0.3586 - acc: 0.8483 - val_loss: 0.3760 - val_acc: 0.8214\n",
      "Epoch 3/40\n",
      "117s - loss: 0.3117 - acc: 0.8861 - val_loss: 0.2112 - val_acc: 0.9259\n",
      "Epoch 4/40\n",
      "109s - loss: 0.2953 - acc: 0.8863 - val_loss: 0.2682 - val_acc: 0.9194\n",
      "Epoch 5/40\n",
      "107s - loss: 0.2748 - acc: 0.8926 - val_loss: 0.6066 - val_acc: 0.8061\n",
      "Epoch 6/40\n",
      "107s - loss: 0.2929 - acc: 0.8916 - val_loss: 0.4287 - val_acc: 0.8867\n",
      "Epoch 7/40\n",
      "115s - loss: 0.2700 - acc: 0.8970 - val_loss: 0.1908 - val_acc: 0.9281\n",
      "Epoch 8/40\n",
      "108s - loss: 0.2555 - acc: 0.9050 - val_loss: 0.2300 - val_acc: 0.9237\n",
      "Epoch 9/40\n",
      "115s - loss: 0.2465 - acc: 0.9118 - val_loss: 0.1766 - val_acc: 0.9412\n",
      "Epoch 10/40\n",
      "115s - loss: 0.2681 - acc: 0.8949 - val_loss: 0.1736 - val_acc: 0.9434\n",
      "Epoch 11/40\n",
      "108s - loss: 0.2394 - acc: 0.9121 - val_loss: 0.2680 - val_acc: 0.9216\n",
      "Epoch 12/40\n",
      "108s - loss: 0.2455 - acc: 0.9070 - val_loss: 0.2943 - val_acc: 0.9150\n",
      "Epoch 13/40\n",
      "107s - loss: 0.2418 - acc: 0.9094 - val_loss: 0.2743 - val_acc: 0.9194\n",
      "Epoch 14/40\n",
      "108s - loss: 0.2361 - acc: 0.9114 - val_loss: 0.1701 - val_acc: 0.9346\n",
      "Epoch 15/40\n",
      "108s - loss: 0.2115 - acc: 0.9260 - val_loss: 0.2440 - val_acc: 0.9303\n",
      "Epoch 16/40\n",
      "115s - loss: 0.2361 - acc: 0.9245 - val_loss: 0.2011 - val_acc: 0.9455\n",
      "Epoch 17/40\n",
      "108s - loss: 0.2345 - acc: 0.9165 - val_loss: 0.1984 - val_acc: 0.9455\n",
      "Epoch 18/40\n",
      "108s - loss: 0.2279 - acc: 0.9103 - val_loss: 0.1812 - val_acc: 0.9455\n",
      "Epoch 19/40\n",
      "115s - loss: 0.2281 - acc: 0.9238 - val_loss: 0.1975 - val_acc: 0.9477\n",
      "Epoch 20/40\n",
      "108s - loss: 0.2171 - acc: 0.9181 - val_loss: 0.1689 - val_acc: 0.9477\n",
      "Epoch 21/40\n",
      "108s - loss: 0.2040 - acc: 0.9355 - val_loss: 0.1596 - val_acc: 0.9455\n",
      "Epoch 22/40\n",
      "115s - loss: 0.2037 - acc: 0.9300 - val_loss: 0.1641 - val_acc: 0.9521\n",
      "Epoch 23/40\n",
      "107s - loss: 0.2248 - acc: 0.9223 - val_loss: 0.1692 - val_acc: 0.9499\n",
      "Epoch 24/40\n",
      "108s - loss: 0.2145 - acc: 0.9267 - val_loss: 0.1717 - val_acc: 0.9477\n",
      "Epoch 25/40\n",
      "108s - loss: 0.2150 - acc: 0.9149 - val_loss: 0.1899 - val_acc: 0.9477\n",
      "Epoch 26/40\n",
      "115s - loss: 0.2309 - acc: 0.9212 - val_loss: 0.1554 - val_acc: 0.9564\n",
      "Epoch 27/40\n",
      "107s - loss: 0.2104 - acc: 0.9273 - val_loss: 0.1515 - val_acc: 0.9521\n",
      "Epoch 28/40\n",
      "108s - loss: 0.2248 - acc: 0.9196 - val_loss: 0.1627 - val_acc: 0.9499\n",
      "Epoch 29/40\n",
      "108s - loss: 0.2372 - acc: 0.9201 - val_loss: 0.1501 - val_acc: 0.9564\n",
      "Epoch 30/40\n",
      "108s - loss: 0.1991 - acc: 0.9256 - val_loss: 0.2047 - val_acc: 0.9390\n",
      "Epoch 31/40\n",
      "107s - loss: 0.1982 - acc: 0.9245 - val_loss: 0.1426 - val_acc: 0.9521\n",
      "Epoch 32/40\n",
      "107s - loss: 0.2035 - acc: 0.9328 - val_loss: 0.1449 - val_acc: 0.9521\n",
      "Epoch 33/40\n",
      "108s - loss: 0.1976 - acc: 0.9251 - val_loss: 0.1597 - val_acc: 0.9346\n",
      "Epoch 34/40\n",
      "108s - loss: 0.2171 - acc: 0.9209 - val_loss: 0.1910 - val_acc: 0.9434\n",
      "Epoch 35/40\n",
      "108s - loss: 0.2157 - acc: 0.9205 - val_loss: 0.1414 - val_acc: 0.9521\n",
      "Epoch 36/40\n",
      "108s - loss: 0.2093 - acc: 0.9271 - val_loss: 0.1394 - val_acc: 0.9542\n",
      "Epoch 37/40\n",
      "108s - loss: 0.1921 - acc: 0.9335 - val_loss: 0.1408 - val_acc: 0.9542\n",
      "Epoch 38/40\n",
      "108s - loss: 0.1940 - acc: 0.9295 - val_loss: 0.1397 - val_acc: 0.9564\n",
      "Epoch 39/40\n",
      "108s - loss: 0.1904 - acc: 0.9267 - val_loss: 0.1435 - val_acc: 0.9542\n",
      "Epoch 40/40\n",
      "108s - loss: 0.1980 - acc: 0.9249 - val_loss: 0.1610 - val_acc: 0.9521\n"
     ]
    }
   ],
   "source": [
    "from keras.preprocessing.image import ImageDataGenerator\n",
    "from keras.callbacks import ModelCheckpoint\n",
    "\n",
    "batch_size = 32\n",
    "epochs = 40\n",
    "\n",
    "train_datagen = ImageDataGenerator(\n",
    "        rotation_range=30, \n",
    "        width_shift_range=0.1,\n",
    "        height_shift_range=0.1, \n",
    "        horizontal_flip=True)\n",
    "train_datagen.fit(X_train)\n",
    "\n",
    "history = model.fit_generator(\n",
    "    train_datagen.flow(X_train, y_train, batch_size=batch_size),\n",
    "    steps_per_epoch=X_train.shape[0] // batch_size,\n",
    "    epochs=epochs,\n",
    "    verbose=2,\n",
    "    validation_data=(X_val, y_val),\n",
    "    callbacks=[ModelCheckpoint('VGG16-transferlearning_topmodel.model', monitor='val_acc', save_best_only=True)])"
   ]
  },
  {
   "cell_type": "markdown",
   "metadata": {},
   "source": [
    "### Model prediction on validation images"
   ]
  },
  {
   "cell_type": "code",
   "execution_count": 25,
   "metadata": {
    "collapsed": false
   },
   "outputs": [],
   "source": [
    "model.load_weights('VGG16-transferlearning_topmodel.model')\n",
    "model.compile(loss='binary_crossentropy', optimizer=optimizers.Adam(lr=1e-3, decay=0.95), metrics=['accuracy'])"
   ]
  },
  {
   "cell_type": "code",
   "execution_count": 26,
   "metadata": {
    "collapsed": true
   },
   "outputs": [],
   "source": [
    "y_val_pred = model.predict(X_val)"
   ]
  },
  {
   "cell_type": "markdown",
   "metadata": {},
   "source": [
    "#### Prediction accuracy"
   ]
  },
  {
   "cell_type": "code",
   "execution_count": 27,
   "metadata": {
    "collapsed": false
   },
   "outputs": [
    {
     "name": "stdout",
     "output_type": "stream",
     "text": [
      "Val accuracy: 0.956427\n"
     ]
    }
   ],
   "source": [
    "y_val_pred_cls = (y_val_pred > 0.5).astype('int')\n",
    "acc = np.sum(y_val == y_val_pred_cls.reshape(-1)) / y_val.shape[0]\n",
    "print('Val accuracy: {:.6f}'.format(acc))"
   ]
  },
  {
   "cell_type": "markdown",
   "metadata": {},
   "source": [
    "#### ROC curve"
   ]
  },
  {
   "cell_type": "code",
   "execution_count": 14,
   "metadata": {
    "collapsed": true
   },
   "outputs": [],
   "source": [
    "from sklearn.metrics import roc_curve, auc\n",
    "def roc_plot(y_test, y_pred_proba):\n",
    "    fpr, tpr, _ = roc_curve(y_test, y_pred_proba)\n",
    "    roc_auc = auc(fpr, tpr)\n",
    "    \n",
    "    plt.figure()\n",
    "    lw = 2\n",
    "    plt.plot(fpr, tpr, color='darkorange', lw=lw, label='ROC curve (area = %0.6f)' % roc_auc)\n",
    "    plt.plot([0, 1], [0, 1], color='navy', lw=lw, linestyle='--')\n",
    "    plt.xlim([0.0, 1.0])\n",
    "    plt.ylim([0.0, 1.05])\n",
    "    plt.xlabel('False Positive Rate')\n",
    "    plt.ylabel('True Positive Rate')\n",
    "    plt.title('Receiver operating characteristic example')\n",
    "    plt.legend(loc=\"lower right\")\n",
    "    plt.show()"
   ]
  },
  {
   "cell_type": "code",
   "execution_count": 15,
   "metadata": {
    "collapsed": false
   },
   "outputs": [
    {
     "data": {
      "image/png": "[encoded data removed]",
      "text/plain": [
       "<matplotlib.figure.Figure at 0x7fa7cc737a90>"
      ]
     },
     "metadata": {},
     "output_type": "display_data"
    }
   ],
   "source": [
    "roc_plot(y_val, y_val_pred.reshape(-1))"
   ]
  },
  {
   "cell_type": "markdown",
   "metadata": {},
   "source": [
    "## Fine-tune the pretrained VGG-16 model plus added layers"
   ]
  },
  {
   "cell_type": "code",
   "execution_count": 29,
   "metadata": {
    "collapsed": false
   },
   "outputs": [
    {
     "name": "stdout",
     "output_type": "stream",
     "text": [
      "_________________________________________________________________\n",
      "Layer (type)                 Output Shape              Param #   \n",
      "=================================================================\n",
      "input_2 (InputLayer)         (None, 224, 224, 3)       0         \n",
      "_________________________________________________________________\n",
      "block1_conv1 (Conv2D)        (None, 224, 224, 64)      1792      \n",
      "_________________________________________________________________\n",
      "block1_conv2 (Conv2D)        (None, 224, 224, 64)      36928     \n",
      "_________________________________________________________________\n",
      "block1_pool (MaxPooling2D)   (None, 112, 112, 64)      0         \n",
      "_________________________________________________________________\n",
      "block2_conv1 (Conv2D)        (None, 112, 112, 128)     73856     \n",
      "_________________________________________________________________\n",
      "block2_conv2 (Conv2D)        (None, 112, 112, 128)     147584    \n",
      "_________________________________________________________________\n",
      "block2_pool (MaxPooling2D)   (None, 56, 56, 128)       0         \n",
      "_________________________________________________________________\n",
      "block3_conv1 (Conv2D)        (None, 56, 56, 256)       295168    \n",
      "_________________________________________________________________\n",
      "block3_conv2 (Conv2D)        (None, 56, 56, 256)       590080    \n",
      "_________________________________________________________________\n",
      "block3_conv3 (Conv2D)        (None, 56, 56, 256)       590080    \n",
      "_________________________________________________________________\n",
      "block3_pool (MaxPooling2D)   (None, 28, 28, 256)       0         \n",
      "_________________________________________________________________\n",
      "block4_conv1 (Conv2D)        (None, 28, 28, 512)       1180160   \n",
      "_________________________________________________________________\n",
      "block4_conv2 (Conv2D)        (None, 28, 28, 512)       2359808   \n",
      "_________________________________________________________________\n",
      "block4_conv3 (Conv2D)        (None, 28, 28, 512)       2359808   \n",
      "_________________________________________________________________\n",
      "block4_pool (MaxPooling2D)   (None, 14, 14, 512)       0         \n",
      "_________________________________________________________________\n",
      "block5_conv1 (Conv2D)        (None, 14, 14, 512)       2359808   \n",
      "_________________________________________________________________\n",
      "block5_conv2 (Conv2D)        (None, 14, 14, 512)       2359808   \n",
      "_________________________________________________________________\n",
      "block5_conv3 (Conv2D)        (None, 14, 14, 512)       2359808   \n",
      "_________________________________________________________________\n",
      "block5_pool (MaxPooling2D)   (None, 7, 7, 512)         0         \n",
      "_________________________________________________________________\n",
      "flatten_2 (Flatten)          (None, 25088)             0         \n",
      "_________________________________________________________________\n",
      "dense_4 (Dense)              (None, 2048)              51382272  \n",
      "_________________________________________________________________\n",
      "batch_normalization_3 (Batch (None, 2048)              8192      \n",
      "_________________________________________________________________\n",
      "activation_3 (Activation)    (None, 2048)              0         \n",
      "_________________________________________________________________\n",
      "dropout_3 (Dropout)          (None, 2048)              0         \n",
      "_________________________________________________________________\n",
      "dense_5 (Dense)              (None, 512)               1049088   \n",
      "_________________________________________________________________\n",
      "batch_normalization_4 (Batch (None, 512)               2048      \n",
      "_________________________________________________________________\n",
      "activation_4 (Activation)    (None, 512)               0         \n",
      "_________________________________________________________________\n",
      "dropout_4 (Dropout)          (None, 512)               0         \n",
      "_________________________________________________________________\n",
      "dense_6 (Dense)              (None, 1)                 513       \n",
      "=================================================================\n",
      "Total params: 67,156,801\n",
      "Trainable params: 59,516,417\n",
      "Non-trainable params: 7,640,384\n",
      "_________________________________________________________________\n"
     ]
    }
   ],
   "source": [
    "for layer in model.layers[15:19]: \n",
    "    layer.trainable = True\n",
    "model.compile(loss='binary_crossentropy', optimizer=optimizers.SGD(lr=1e-4, momentum=0.9), metrics=['accuracy'])\n",
    "model.summary()"
   ]
  },
  {
   "cell_type": "markdown",
   "metadata": {},
   "source": [
    "### Start fine tuning with training images"
   ]
  },
  {
   "cell_type": "code",
   "execution_count": 30,
   "metadata": {
    "collapsed": false
   },
   "outputs": [
    {
     "name": "stdout",
     "output_type": "stream",
     "text": [
      "Epoch 1/40\n",
      "48s - loss: 0.2176 - acc: 0.9194 - val_loss: 0.2286 - val_acc: 0.9237\n",
      "Epoch 2/40\n",
      "43s - loss: 0.2184 - acc: 0.9253 - val_loss: 0.4632 - val_acc: 0.7647\n",
      "Epoch 3/40\n",
      "42s - loss: 0.2070 - acc: 0.9223 - val_loss: 0.2390 - val_acc: 0.9085\n",
      "Epoch 4/40\n",
      "43s - loss: 0.2203 - acc: 0.9141 - val_loss: 0.3712 - val_acc: 0.8279\n",
      "Epoch 5/40\n",
      "47s - loss: 0.2272 - acc: 0.9112 - val_loss: 0.1469 - val_acc: 0.9499\n",
      "Epoch 6/40\n",
      "43s - loss: 0.2133 - acc: 0.9222 - val_loss: 0.1598 - val_acc: 0.9412\n",
      "Epoch 7/40\n",
      "43s - loss: 0.1975 - acc: 0.9264 - val_loss: 0.8989 - val_acc: 0.6057\n",
      "Epoch 8/40\n",
      "43s - loss: 0.1682 - acc: 0.9410 - val_loss: 0.3300 - val_acc: 0.8431\n",
      "Epoch 9/40\n",
      "43s - loss: 0.2023 - acc: 0.9243 - val_loss: 0.1577 - val_acc: 0.9368\n",
      "Epoch 10/40\n",
      "43s - loss: 0.2061 - acc: 0.9255 - val_loss: 0.2332 - val_acc: 0.9259\n",
      "Epoch 11/40\n",
      "47s - loss: 0.1808 - acc: 0.9293 - val_loss: 0.1294 - val_acc: 0.9564\n",
      "Epoch 12/40\n",
      "43s - loss: 0.1790 - acc: 0.9293 - val_loss: 0.1431 - val_acc: 0.9434\n",
      "Epoch 13/40\n",
      "43s - loss: 0.1706 - acc: 0.9366 - val_loss: 0.1891 - val_acc: 0.9412\n",
      "Epoch 14/40\n",
      "43s - loss: 0.2010 - acc: 0.9192 - val_loss: 0.3371 - val_acc: 0.8627\n",
      "Epoch 15/40\n",
      "43s - loss: 0.1912 - acc: 0.9340 - val_loss: 0.2843 - val_acc: 0.8932\n",
      "Epoch 16/40\n",
      "43s - loss: 0.1734 - acc: 0.9322 - val_loss: 0.1483 - val_acc: 0.9412\n",
      "Epoch 17/40\n",
      "43s - loss: 0.1772 - acc: 0.9284 - val_loss: 0.1535 - val_acc: 0.9477\n",
      "Epoch 18/40\n",
      "43s - loss: 0.1804 - acc: 0.9309 - val_loss: 0.3742 - val_acc: 0.8867\n",
      "Epoch 19/40\n",
      "43s - loss: 0.1756 - acc: 0.9333 - val_loss: 0.2119 - val_acc: 0.9346\n",
      "Epoch 20/40\n",
      "43s - loss: 0.1703 - acc: 0.9380 - val_loss: 0.1397 - val_acc: 0.9477\n",
      "Epoch 21/40\n",
      "42s - loss: 0.1661 - acc: 0.9346 - val_loss: 0.6153 - val_acc: 0.7081\n",
      "Epoch 22/40\n",
      "43s - loss: 0.1590 - acc: 0.9366 - val_loss: 0.5147 - val_acc: 0.7756\n",
      "Epoch 23/40\n",
      "43s - loss: 0.1700 - acc: 0.9342 - val_loss: 0.1485 - val_acc: 0.9499\n",
      "Epoch 24/40\n",
      "47s - loss: 0.1735 - acc: 0.9377 - val_loss: 0.1221 - val_acc: 0.9608\n",
      "Epoch 25/40\n",
      "43s - loss: 0.1900 - acc: 0.9201 - val_loss: 0.1401 - val_acc: 0.9477\n",
      "Epoch 26/40\n",
      "43s - loss: 0.1579 - acc: 0.9446 - val_loss: 0.1225 - val_acc: 0.9608\n",
      "Epoch 27/40\n",
      "42s - loss: 0.1639 - acc: 0.9347 - val_loss: 0.3896 - val_acc: 0.8126\n",
      "Epoch 28/40\n",
      "43s - loss: 0.1695 - acc: 0.9380 - val_loss: 0.1857 - val_acc: 0.9368\n",
      "Epoch 29/40\n",
      "43s - loss: 0.1605 - acc: 0.9360 - val_loss: 0.2180 - val_acc: 0.9368\n",
      "Epoch 30/40\n",
      "43s - loss: 0.1782 - acc: 0.9353 - val_loss: 0.1508 - val_acc: 0.9346\n",
      "Epoch 31/40\n",
      "43s - loss: 0.1824 - acc: 0.9306 - val_loss: 0.1905 - val_acc: 0.9150\n",
      "Epoch 32/40\n",
      "43s - loss: 0.1596 - acc: 0.9413 - val_loss: 0.2530 - val_acc: 0.9041\n",
      "Epoch 33/40\n",
      "42s - loss: 0.1757 - acc: 0.9295 - val_loss: 0.1573 - val_acc: 0.9434\n",
      "Epoch 34/40\n",
      "43s - loss: 0.1748 - acc: 0.9358 - val_loss: 0.1382 - val_acc: 0.9499\n",
      "Epoch 35/40\n",
      "43s - loss: 0.1594 - acc: 0.9408 - val_loss: 0.1775 - val_acc: 0.9412\n",
      "Epoch 36/40\n",
      "42s - loss: 0.1632 - acc: 0.9360 - val_loss: 0.1606 - val_acc: 0.9346\n",
      "Epoch 37/40\n",
      "43s - loss: 0.1429 - acc: 0.9481 - val_loss: 0.1590 - val_acc: 0.9325\n",
      "Epoch 38/40\n",
      "43s - loss: 0.1853 - acc: 0.9373 - val_loss: 0.2360 - val_acc: 0.8976\n",
      "Epoch 39/40\n",
      "43s - loss: 0.1699 - acc: 0.9321 - val_loss: 0.1588 - val_acc: 0.9434\n",
      "Epoch 40/40\n",
      "43s - loss: 0.1597 - acc: 0.9419 - val_loss: 0.1149 - val_acc: 0.9564\n"
     ]
    }
   ],
   "source": [
    "from keras.preprocessing.image import ImageDataGenerator\n",
    "from keras.callbacks import ModelCheckpoint\n",
    "\n",
    "batch_size = 32\n",
    "epochs = 40\n",
    "\n",
    "train_datagen = ImageDataGenerator(\n",
    "        rotation_range=30, \n",
    "        width_shift_range=0.1,\n",
    "        height_shift_range=0.1, \n",
    "        horizontal_flip=True)\n",
    "train_datagen.fit(X_train)\n",
    "\n",
    "history1 = model.fit_generator(\n",
    "    train_datagen.flow(X_train, y_train, batch_size=batch_size),\n",
    "    steps_per_epoch=X_train.shape[0] // batch_size,\n",
    "    epochs=epochs,\n",
    "    verbose=2,\n",
    "    validation_data=(X_val, y_val),\n",
    "    callbacks=[ModelCheckpoint('VGG16-transferlearning_finetune.model', monitor='val_acc', save_best_only=True)])"
   ]
  },
  {
   "cell_type": "markdown",
   "metadata": {},
   "source": [
    "### Model prediction on validation images"
   ]
  },
  {
   "cell_type": "code",
   "execution_count": 31,
   "metadata": {
    "collapsed": false
   },
   "outputs": [],
   "source": [
    "model.load_weights('VGG16-transferlearning_finetune.model')\n",
    "model.compile(loss='binary_crossentropy', optimizer=optimizers.SGD(lr=1e-4, momentum=0.9), metrics=['accuracy'])\n",
    "y_val_pred = model.predict(X_val)"
   ]
  },
  {
   "cell_type": "markdown",
   "metadata": {},
   "source": [
    "#### Prediction accuracy"
   ]
  },
  {
   "cell_type": "code",
   "execution_count": 32,
   "metadata": {
    "collapsed": false
   },
   "outputs": [
    {
     "name": "stdout",
     "output_type": "stream",
     "text": [
      "Val accuracy: 0.960784\n"
     ]
    }
   ],
   "source": [
    "y_val_pred_cls = (y_val_pred > 0.5).astype('int')\n",
    "acc = np.sum(y_val == y_val_pred_cls.reshape(-1)) / y_val.shape[0]\n",
    "print('Val accuracy: {:.6f}'.format(acc))"
   ]
  },
  {
   "cell_type": "markdown",
   "metadata": {},
   "source": [
    "#### ROC curve"
   ]
  },
  {
   "cell_type": "code",
   "execution_count": 33,
   "metadata": {
    "collapsed": false
   },
   "outputs": [
    {
     "data": {
      "image/png": "[encoded data removed]",
      "text/plain": [
       "<matplotlib.figure.Figure at 0x7fa7814d6cc0>"
      ]
     },
     "metadata": {},
     "output_type": "display_data"
    }
   ],
   "source": [
    "roc_plot(y_val, y_val_pred.reshape(-1))"
   ]
  },
  {
   "cell_type": "code",
   "execution_count": null,
   "metadata": {
    "collapsed": true
   },
   "outputs": [],
   "source": []
  }
 ],
 "metadata": {
  "kernelspec": {
   "display_name": "Python 3",
   "language": "python",
   "name": "python3"
  },
  "language_info": {
   "codemirror_mode": {
    "name": "ipython",
    "version": 3
   },
   "file_extension": ".py",
   "mimetype": "text/x-python",
   "name": "python",
   "nbconvert_exporter": "python",
   "pygments_lexer": "ipython3",
   "version": "3.5.2"
  },
  "toc": {
   "colors": {
    "hover_highlight": "#DAA520",
    "navigate_num": "#000000",
    "navigate_text": "#333333",
    "running_highlight": "#FF0000",
    "selected_highlight": "#FFD700",
    "sidebar_border": "#EEEEEE",
    "wrapper_background": "#FFFFFF"
   },
   "moveMenuLeft": true,
   "nav_menu": {
    "height": "63px",
    "width": "252px"
   },
   "navigate_menu": true,
   "number_sections": true,
   "sideBar": true,
   "threshold": 4,
   "toc_cell": false,
   "toc_section_display": "block",
   "toc_window_display": false,
   "widenNotebook": false
  }
 },
 "nbformat": 4,
 "nbformat_minor": 2
}
