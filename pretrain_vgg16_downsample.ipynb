{
 "cells": [
  {
   "cell_type": "markdown",
   "metadata": {},
   "source": [
    "# Pretrained VGG16 on Invasive species from different Downsampling method for image preprocessing\n",
    "\n",
    "- The model relies on VGG-16 pretrained model, with `include_top=False`. On top of that, a nn with (1) Dense layer 256 neurons, (2) Output layer 1 neuron, with sigmoid classification.\n",
    "- This model is brutal, in the sense that, all paramaters including vgg-16, are trainable. This makes the model too heavy to train, (2~3 days on a 4-core desktop!)\n",
    "- Data augmentation is applied upon traing every batch."
   ]
  },
  {
   "cell_type": "code",
   "execution_count": 10,
   "metadata": {
    "collapsed": false
   },
   "outputs": [],
   "source": [
    "import matplotlib.pyplot as plt\n",
    "%matplotlib inline\n",
    "import numpy as np\n",
    "import pandas as pd\n",
    "import cv2\n",
    "import math\n",
    "from glob import glob\n",
    "import os\n",
    "import sys\n",
    "# using cv2.INTER_AREA, cv2.INTER_LINEAR, cv2.INTER_LANCZOS4\n",
    "interpolation = cv2.INTER_LANCZOS4"
   ]
  },
  {
   "cell_type": "markdown",
   "metadata": {},
   "source": [
    "## Preprocess training images\n",
    "\n",
    "### image file_paths"
   ]
  },
  {
   "cell_type": "code",
   "execution_count": 2,
   "metadata": {
    "collapsed": false
   },
   "outputs": [],
   "source": [
    "master = pd.read_csv(\"../input/train_labels.csv\")\n",
    "\n",
    "img_path = \"../input/train/\"\n",
    "\n",
    "y = []\n",
    "file_paths = []\n",
    "for i in range(len(master)):\n",
    "    file_paths.append( img_path + str(master.iloc[i, 0]) +'.jpg' ) # .ix same as .iloc\n",
    "    y.append(master.iloc[i,1])\n",
    "y = np.array(y)"
   ]
  },
  {
   "cell_type": "markdown",
   "metadata": {},
   "source": [
    "### Preprocessing pipline with specific downsampling method\n",
    "\n",
    "resize -> centering -> cropping"
   ]
  },
  {
   "cell_type": "code",
   "execution_count": 2,
   "metadata": {
    "collapsed": true
   },
   "outputs": [],
   "source": [
    "def centering_image(img):\n",
    "    size = [256,256]\n",
    "    \n",
    "    img_size = img.shape[:2]\n",
    "    \n",
    "    # centering\n",
    "    row = (size[1] - img_size[0]) // 2\n",
    "    col = (size[0] - img_size[1]) // 2\n",
    "    resized = np.zeros(list(size) + [img.shape[2]], dtype=np.uint8)\n",
    "    resized[row:(row + img.shape[0]), col:(col + img.shape[1])] = img\n",
    "\n",
    "    return resized"
   ]
  },
  {
   "cell_type": "code",
   "execution_count": 4,
   "metadata": {
    "collapsed": false
   },
   "outputs": [
    {
     "name": "stdout",
     "output_type": "stream",
     "text": [
      " ../input/train/2295.jpg from total 2295 images"
     ]
    }
   ],
   "source": [
    "X = []\n",
    "for i, file_path in enumerate(file_paths):\n",
    "    sys.stdout.write(\"\\r {0} from total {1} images\".format(file_path, len(file_paths)))\n",
    "    sys.stdout.flush()\n",
    "    #read image\n",
    "    img = cv2.imread(file_path)\n",
    "    img = cv2.cvtColor(img, cv2.COLOR_BGR2RGB)\n",
    "    \n",
    "    #resize\n",
    "    if(img.shape[0] > img.shape[1]):\n",
    "        tile_size = (int(img.shape[1]*256/img.shape[0]),256)\n",
    "    else:\n",
    "        tile_size = (256, int(img.shape[0]*256/img.shape[1]))\n",
    "    img = cv2.resize(img, dsize=tile_size, interpolation=interpolation)\n",
    "\n",
    "    #centering\n",
    "    img = centering_image(img)\n",
    "\n",
    "    #out put 224*224px \n",
    "    img = img[16:240, 16:240]\n",
    "    img = img.astype('float32')\n",
    "    img /= 255.0\n",
    "    X.append(img)\n",
    "\n",
    "X = np.array(X)"
   ]
  },
  {
   "cell_type": "markdown",
   "metadata": {},
   "source": [
    "## Train-Test splitting"
   ]
  },
  {
   "cell_type": "code",
   "execution_count": 5,
   "metadata": {
    "collapsed": false
   },
   "outputs": [
    {
     "name": "stdout",
     "output_type": "stream",
     "text": [
      "X_train (1836, 224, 224, 3)\n",
      "y_train (1836,)\n",
      "X_val (459, 224, 224, 3)\n",
      "y_val (459,)\n"
     ]
    }
   ],
   "source": [
    "from sklearn.model_selection import train_test_split\n",
    "X_train, X_val, y_train, y_val = train_test_split(X, y, test_size=0.2, random_state=2017)\n",
    "\n",
    "print('X_train', X_train.shape)\n",
    "print('y_train', y_train.shape)\n",
    "print('X_val', X_val.shape)\n",
    "print('y_val', y_val.shape)"
   ]
  },
  {
   "cell_type": "markdown",
   "metadata": {},
   "source": [
    "## Using Keras VGG-16 pretrained model"
   ]
  },
  {
   "cell_type": "code",
   "execution_count": 6,
   "metadata": {
    "collapsed": false
   },
   "outputs": [
    {
     "name": "stderr",
     "output_type": "stream",
     "text": [
      "Using TensorFlow backend.\n"
     ]
    }
   ],
   "source": [
    "from keras.models import Sequential, Model, load_model\n",
    "from keras import applications\n",
    "from keras import optimizers\n",
    "from keras.layers import Dropout, Flatten, Dense\n",
    "\n",
    "img_rows, img_cols, img_channel = 224, 224, 3\n",
    "\n",
    "base_model = applications.VGG16(weights='imagenet', include_top=False, \n",
    "                                input_shape=(img_rows, img_cols, img_channel))"
   ]
  },
  {
   "cell_type": "code",
   "execution_count": 7,
   "metadata": {
    "collapsed": true
   },
   "outputs": [],
   "source": [
    "x = base_model.output\n",
    "x = Flatten()(x)\n",
    "x = Dense(256, activation='relu')(x)\n",
    "predictions = Dense(1, activation='sigmoid')(x)\n",
    "\n",
    "model = Model(inputs=base_model.input, outputs=predictions)\n",
    "model.compile(loss='binary_crossentropy', optimizer=optimizers.SGD(lr=1e-4, momentum=0.9), metrics=['accuracy'])"
   ]
  },
  {
   "cell_type": "code",
   "execution_count": 8,
   "metadata": {
    "collapsed": false
   },
   "outputs": [
    {
     "name": "stdout",
     "output_type": "stream",
     "text": [
      "_________________________________________________________________\n",
      "Layer (type)                 Output Shape              Param #   \n",
      "=================================================================\n",
      "input_1 (InputLayer)         (None, 224, 224, 3)       0         \n",
      "_________________________________________________________________\n",
      "block1_conv1 (Conv2D)        (None, 224, 224, 64)      1792      \n",
      "_________________________________________________________________\n",
      "block1_conv2 (Conv2D)        (None, 224, 224, 64)      36928     \n",
      "_________________________________________________________________\n",
      "block1_pool (MaxPooling2D)   (None, 112, 112, 64)      0         \n",
      "_________________________________________________________________\n",
      "block2_conv1 (Conv2D)        (None, 112, 112, 128)     73856     \n",
      "_________________________________________________________________\n",
      "block2_conv2 (Conv2D)        (None, 112, 112, 128)     147584    \n",
      "_________________________________________________________________\n",
      "block2_pool (MaxPooling2D)   (None, 56, 56, 128)       0         \n",
      "_________________________________________________________________\n",
      "block3_conv1 (Conv2D)        (None, 56, 56, 256)       295168    \n",
      "_________________________________________________________________\n",
      "block3_conv2 (Conv2D)        (None, 56, 56, 256)       590080    \n",
      "_________________________________________________________________\n",
      "block3_conv3 (Conv2D)        (None, 56, 56, 256)       590080    \n",
      "_________________________________________________________________\n",
      "block3_pool (MaxPooling2D)   (None, 28, 28, 256)       0         \n",
      "_________________________________________________________________\n",
      "block4_conv1 (Conv2D)        (None, 28, 28, 512)       1180160   \n",
      "_________________________________________________________________\n",
      "block4_conv2 (Conv2D)        (None, 28, 28, 512)       2359808   \n",
      "_________________________________________________________________\n",
      "block4_conv3 (Conv2D)        (None, 28, 28, 512)       2359808   \n",
      "_________________________________________________________________\n",
      "block4_pool (MaxPooling2D)   (None, 14, 14, 512)       0         \n",
      "_________________________________________________________________\n",
      "block5_conv1 (Conv2D)        (None, 14, 14, 512)       2359808   \n",
      "_________________________________________________________________\n",
      "block5_conv2 (Conv2D)        (None, 14, 14, 512)       2359808   \n",
      "_________________________________________________________________\n",
      "block5_conv3 (Conv2D)        (None, 14, 14, 512)       2359808   \n",
      "_________________________________________________________________\n",
      "block5_pool (MaxPooling2D)   (None, 7, 7, 512)         0         \n",
      "_________________________________________________________________\n",
      "flatten_1 (Flatten)          (None, 25088)             0         \n",
      "_________________________________________________________________\n",
      "dense_1 (Dense)              (None, 256)               6422784   \n",
      "_________________________________________________________________\n",
      "dense_2 (Dense)              (None, 1)                 257       \n",
      "=================================================================\n",
      "Total params: 21,137,729\n",
      "Trainable params: 21,137,729\n",
      "Non-trainable params: 0\n",
      "_________________________________________________________________\n"
     ]
    }
   ],
   "source": [
    "model.summary()"
   ]
  },
  {
   "cell_type": "markdown",
   "metadata": {},
   "source": [
    "### Model fitting with data augmentation"
   ]
  },
  {
   "cell_type": "code",
   "execution_count": 9,
   "metadata": {
    "collapsed": false
   },
   "outputs": [
    {
     "name": "stdout",
     "output_type": "stream",
     "text": [
      "Epoch 1/40\n",
      "112s - loss: 0.5476 - acc: 0.7045 - val_loss: 0.3674 - val_acc: 0.8562\n",
      "Epoch 2/40\n",
      "107s - loss: 0.3171 - acc: 0.8626 - val_loss: 0.2685 - val_acc: 0.9150\n",
      "Epoch 3/40\n",
      "104s - loss: 0.2203 - acc: 0.9125 - val_loss: 0.1869 - val_acc: 0.9368\n",
      "Epoch 4/40\n",
      "104s - loss: 0.2075 - acc: 0.9167 - val_loss: 0.1474 - val_acc: 0.9499\n",
      "Epoch 5/40\n",
      "104s - loss: 0.1721 - acc: 0.9371 - val_loss: 0.1509 - val_acc: 0.9564\n",
      "Epoch 6/40\n",
      "104s - loss: 0.1575 - acc: 0.9434 - val_loss: 0.1137 - val_acc: 0.9586\n",
      "Epoch 7/40\n",
      "102s - loss: 0.1683 - acc: 0.9413 - val_loss: 0.1814 - val_acc: 0.9499\n",
      "Epoch 8/40\n",
      "104s - loss: 0.1394 - acc: 0.9523 - val_loss: 0.1002 - val_acc: 0.9739\n",
      "Epoch 9/40\n",
      "103s - loss: 0.1153 - acc: 0.9567 - val_loss: 0.0922 - val_acc: 0.9695\n",
      "Epoch 10/40\n",
      "103s - loss: 0.1173 - acc: 0.9602 - val_loss: 0.1040 - val_acc: 0.9717\n",
      "Epoch 11/40\n",
      "105s - loss: 0.1000 - acc: 0.9624 - val_loss: 0.0943 - val_acc: 0.9760\n",
      "Epoch 12/40\n",
      "103s - loss: 0.1230 - acc: 0.9567 - val_loss: 0.1701 - val_acc: 0.9521\n",
      "Epoch 13/40\n",
      "103s - loss: 0.1065 - acc: 0.9607 - val_loss: 0.1547 - val_acc: 0.9477\n",
      "Epoch 14/40\n",
      "103s - loss: 0.0912 - acc: 0.9676 - val_loss: 0.1172 - val_acc: 0.9630\n",
      "Epoch 15/40\n",
      "103s - loss: 0.0780 - acc: 0.9698 - val_loss: 0.1092 - val_acc: 0.9673\n",
      "Epoch 16/40\n",
      "103s - loss: 0.0825 - acc: 0.9750 - val_loss: 0.0793 - val_acc: 0.9739\n",
      "Epoch 17/40\n",
      "103s - loss: 0.0989 - acc: 0.9624 - val_loss: 0.0892 - val_acc: 0.9739\n",
      "Epoch 18/40\n",
      "104s - loss: 0.0681 - acc: 0.9770 - val_loss: 0.0776 - val_acc: 0.9760\n",
      "Epoch 19/40\n",
      "103s - loss: 0.0657 - acc: 0.9742 - val_loss: 0.0669 - val_acc: 0.9739\n",
      "Epoch 20/40\n",
      "103s - loss: 0.0631 - acc: 0.9737 - val_loss: 0.1465 - val_acc: 0.9542\n",
      "Epoch 21/40\n",
      "103s - loss: 0.0691 - acc: 0.9746 - val_loss: 0.0950 - val_acc: 0.9695\n",
      "Epoch 22/40\n",
      "104s - loss: 0.0652 - acc: 0.9781 - val_loss: 0.0567 - val_acc: 0.9782\n",
      "Epoch 23/40\n",
      "103s - loss: 0.0729 - acc: 0.9750 - val_loss: 0.1124 - val_acc: 0.9608\n",
      "Epoch 24/40\n",
      "104s - loss: 0.0504 - acc: 0.9835 - val_loss: 0.0613 - val_acc: 0.9804\n",
      "Epoch 25/40\n",
      "103s - loss: 0.0551 - acc: 0.9819 - val_loss: 0.0734 - val_acc: 0.9760\n",
      "Epoch 26/40\n",
      "103s - loss: 0.0603 - acc: 0.9781 - val_loss: 0.0665 - val_acc: 0.9804\n",
      "Epoch 27/40\n",
      "103s - loss: 0.0355 - acc: 0.9879 - val_loss: 0.1108 - val_acc: 0.9630\n",
      "Epoch 28/40\n",
      "104s - loss: 0.0406 - acc: 0.9846 - val_loss: 0.0515 - val_acc: 0.9847\n",
      "Epoch 29/40\n",
      "103s - loss: 0.0431 - acc: 0.9835 - val_loss: 0.0582 - val_acc: 0.9847\n",
      "Epoch 30/40\n",
      "103s - loss: 0.0366 - acc: 0.9852 - val_loss: 0.0633 - val_acc: 0.9804\n",
      "Epoch 31/40\n",
      "102s - loss: 0.0244 - acc: 0.9934 - val_loss: 0.0451 - val_acc: 0.9826\n",
      "Epoch 32/40\n",
      "102s - loss: 0.0428 - acc: 0.9832 - val_loss: 0.0764 - val_acc: 0.9760\n",
      "Epoch 33/40\n",
      "102s - loss: 0.0380 - acc: 0.9890 - val_loss: 0.0671 - val_acc: 0.9804\n",
      "Epoch 34/40\n",
      "102s - loss: 0.0308 - acc: 0.9896 - val_loss: 0.0546 - val_acc: 0.9760\n",
      "Epoch 35/40\n",
      "104s - loss: 0.0268 - acc: 0.9907 - val_loss: 0.0501 - val_acc: 0.9891\n",
      "Epoch 36/40\n",
      "102s - loss: 0.0447 - acc: 0.9852 - val_loss: 0.1676 - val_acc: 0.9499\n",
      "Epoch 37/40\n",
      "102s - loss: 0.0209 - acc: 0.9940 - val_loss: 0.0537 - val_acc: 0.9804\n",
      "Epoch 38/40\n",
      "102s - loss: 0.0287 - acc: 0.9923 - val_loss: 0.0539 - val_acc: 0.9869\n",
      "Epoch 39/40\n",
      "102s - loss: 0.0236 - acc: 0.9896 - val_loss: 0.0420 - val_acc: 0.9847\n",
      "Epoch 40/40\n",
      "102s - loss: 0.0404 - acc: 0.9865 - val_loss: 0.0439 - val_acc: 0.9891\n"
     ]
    }
   ],
   "source": [
    "from keras.preprocessing.image import ImageDataGenerator\n",
    "from keras.callbacks import ModelCheckpoint\n",
    "\n",
    "batch_size = 32\n",
    "epochs = 40\n",
    "\n",
    "train_datagen = ImageDataGenerator(\n",
    "        rotation_range=30, \n",
    "        width_shift_range=0.1,\n",
    "        height_shift_range=0.1, \n",
    "        horizontal_flip=True)\n",
    "train_datagen.fit(X_train)\n",
    "\n",
    "\n",
    "history = model.fit_generator(\n",
    "    train_datagen.flow(X_train, y_train, batch_size=batch_size),\n",
    "    steps_per_epoch=X_train.shape[0] // batch_size,\n",
    "    epochs=epochs,\n",
    "    verbose=2,\n",
    "    validation_data=(X_val, y_val),\n",
    "    callbacks=[ModelCheckpoint('VGG16-transferlearning'+str(interpolation)+'.model', monitor='val_acc', save_best_only=True)])"
   ]
  },
  {
   "cell_type": "markdown",
   "metadata": {},
   "source": [
    "## Model prediction on validation images"
   ]
  },
  {
   "cell_type": "code",
   "execution_count": 10,
   "metadata": {
    "collapsed": false
   },
   "outputs": [],
   "source": [
    "model = load_model('VGG16-transferlearning'+str(interpolation)+'.model')\n",
    "y_val_pred = model.predict(X_val)"
   ]
  },
  {
   "cell_type": "markdown",
   "metadata": {},
   "source": [
    "### Prediction accuracy"
   ]
  },
  {
   "cell_type": "code",
   "execution_count": 11,
   "metadata": {
    "collapsed": false
   },
   "outputs": [
    {
     "name": "stdout",
     "output_type": "stream",
     "text": [
      "Val accuracy: 0.989107\n"
     ]
    }
   ],
   "source": [
    "y_val_pred_cls = (y_val_pred > 0.5).astype('int')\n",
    "acc = np.sum(y_val == y_val_pred_cls.reshape(-1)) / y_val.shape[0]\n",
    "print('Val accuracy: {:.6f}'.format(acc))"
   ]
  },
  {
   "cell_type": "markdown",
   "metadata": {},
   "source": [
    "### ROC curve"
   ]
  },
  {
   "cell_type": "code",
   "execution_count": 12,
   "metadata": {
    "collapsed": true
   },
   "outputs": [],
   "source": [
    "from sklearn.metrics import roc_curve, auc\n",
    "def roc_plot(y_test, y_pred_proba):\n",
    "    fpr, tpr, _ = roc_curve(y_test, y_pred_proba)\n",
    "    roc_auc = auc(fpr, tpr)\n",
    "    \n",
    "    plt.figure()\n",
    "    lw = 2\n",
    "    plt.plot(fpr, tpr, color='darkorange', lw=lw, label='ROC curve (area = %0.6f)' % roc_auc)\n",
    "    plt.plot([0, 1], [0, 1], color='navy', lw=lw, linestyle='--')\n",
    "    plt.xlim([0.0, 1.0])\n",
    "    plt.ylim([0.0, 1.05])\n",
    "    plt.xlabel('False Positive Rate')\n",
    "    plt.ylabel('True Positive Rate')\n",
    "    plt.title('Receiver operating characteristic example')\n",
    "    plt.legend(loc=\"lower right\")\n",
    "    plt.show()"
   ]
  },
  {
   "cell_type": "code",
   "execution_count": 13,
   "metadata": {
    "collapsed": false
   },
   "outputs": [
    {
     "data": {
      "image/png": "[encoded data removed]",
      "text/plain": [
       "<matplotlib.figure.Figure at 0x7f2ba46b63c8>"
      ]
     },
     "metadata": {},
     "output_type": "display_data"
    }
   ],
   "source": [
    "roc_plot(y_val, y_val_pred.reshape(-1))"
   ]
  },
  {
   "cell_type": "markdown",
   "metadata": {},
   "source": [
    "## Conclusion\n",
    "\n",
    "- cv2.INTER_LINEAR\n",
    "    - acc: 0.984749\n",
    "    - roc: 0.998239\n",
    "- cv2.INTER_AREA\n",
    "    - acc: 0.989107\n",
    "    - roc: 0.998742\n",
    "- cv2.INTER_LANCZOS4\n",
    "    - acc: 0.986928\n",
    "    - roc: 0.998065\n",
    "\n",
    "cv2.INTER_AREA downsampling gives the best results."
   ]
  },
  {
   "cell_type": "markdown",
   "metadata": {},
   "source": [
    "## Predict on test images"
   ]
  },
  {
   "cell_type": "code",
   "execution_count": 11,
   "metadata": {
    "collapsed": true
   },
   "outputs": [],
   "source": [
    "sample_submission = pd.read_csv(\"../input/sample_submission.csv\")\n",
    "img_path = \"../input/test/\"\n",
    "\n",
    "test_names = []\n",
    "file_paths = []\n",
    "\n",
    "for i in range(len(sample_submission)):\n",
    "    test_names.append(sample_submission.iloc[i,0])\n",
    "    file_paths.append( img_path + str(int(sample_submission.iloc[i,0])) +'.jpg' )\n",
    "\n",
    "test_names = np.array(test_names)"
   ]
  },
  {
   "cell_type": "code",
   "execution_count": 12,
   "metadata": {
    "collapsed": false
   },
   "outputs": [
    {
     "name": "stdout",
     "output_type": "stream",
     "text": [
      " ../input/test/1531.jpg from total 1531 images"
     ]
    }
   ],
   "source": [
    "X_test = []\n",
    "for i, file_path in enumerate(file_paths):\n",
    "    sys.stdout.write(\"\\r {0} from total {1} images\".format(file_path, len(file_paths)))\n",
    "    sys.stdout.flush()\n",
    "\n",
    "    #read image\n",
    "    img = cv2.imread(file_path)\n",
    "    img = cv2.cvtColor(img, cv2.COLOR_BGR2RGB)\n",
    "\n",
    "    #resize\n",
    "    if(img.shape[0] > img.shape[1]):\n",
    "        tile_size = (int(img.shape[1]*256/img.shape[0]),256)\n",
    "    else:\n",
    "        tile_size = (256, int(img.shape[0]*256/img.shape[1]))\n",
    "\n",
    "    #centering\n",
    "    img = centering_image(cv2.resize(img, dsize=tile_size, interpolation=interpolation))\n",
    "    \n",
    "    #out put 224*224px \n",
    "    img = img[16:240, 16:240]\n",
    "    img = img.astype('float32')\n",
    "    img /= 255.0\n",
    "    X_test.append(img)\n",
    "\n",
    "X_test = np.array(X_test)"
   ]
  },
  {
   "cell_type": "code",
   "execution_count": 13,
   "metadata": {
    "collapsed": false
   },
   "outputs": [],
   "source": [
    "model = load_model('VGG16-transferlearning'+str(interpolation)+'.model')\n",
    "y_test_pred = model.predict(X_test)"
   ]
  },
  {
   "cell_type": "code",
   "execution_count": 14,
   "metadata": {
    "collapsed": true
   },
   "outputs": [],
   "source": [
    "def submission_to_csv(test_preds, file_path):\n",
    "    sample_submission = pd.read_csv(\"../input/sample_submission.csv\")\n",
    "    for i, name in enumerate(test_names):\n",
    "        sample_submission.loc[sample_submission['name'] == name, 'invasive'] = test_preds[i]\n",
    "    sample_submission.to_csv(file_path, index=False)"
   ]
  },
  {
   "cell_type": "code",
   "execution_count": 15,
   "metadata": {
    "collapsed": true
   },
   "outputs": [],
   "source": [
    "submission_to_csv(test_preds=y_test_pred, file_path='submit_subsample_lanczos4.csv')"
   ]
  },
  {
   "cell_type": "markdown",
   "metadata": {},
   "source": [
    "## Conclusion on test submission\n",
    "\n",
    "- `cv2.INTER_LINEAR`: 0.98536\n",
    "- `cv2.INTER_AREA` : 0.98457\n",
    "- `cv2.INTER_LANCZOS4` : 0.98813\n",
    "\n",
    "Best performance obtained on Lanczos downsampling method."
   ]
  }
 ],
 "metadata": {
  "kernelspec": {
   "display_name": "Python 3",
   "language": "python",
   "name": "python3"
  },
  "language_info": {
   "codemirror_mode": {
    "name": "ipython",
    "version": 3
   },
   "file_extension": ".py",
   "mimetype": "text/x-python",
   "name": "python",
   "nbconvert_exporter": "python",
   "pygments_lexer": "ipython3",
   "version": "3.5.2"
  },
  "toc": {
   "colors": {
    "hover_highlight": "#DAA520",
    "navigate_num": "#000000",
    "navigate_text": "#333333",
    "running_highlight": "#FF0000",
    "selected_highlight": "#FFD700",
    "sidebar_border": "#EEEEEE",
    "wrapper_background": "#FFFFFF"
   },
   "moveMenuLeft": true,
   "nav_menu": {
    "height": "225px",
    "width": "252px"
   },
   "navigate_menu": true,
   "number_sections": true,
   "sideBar": true,
   "threshold": 4,
   "toc_cell": false,
   "toc_section_display": "block",
   "toc_window_display": false,
   "widenNotebook": false
  }
 },
 "nbformat": 4,
 "nbformat_minor": 2
}
