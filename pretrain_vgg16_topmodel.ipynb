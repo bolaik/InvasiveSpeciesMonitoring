{
 "cells": [
  {
   "cell_type": "markdown",
   "metadata": {},
   "source": [
    "# Pretrained model on Invasive species classification\n",
    "\n",
    "## train only with added layers\n",
    "\n",
    "- The model relies on VGG-16 pretrained model, with `include_top=False`. On top of that, a nn with (1) Dense layer 256 neurons, (2) Output layer 1 neuron, with sigmoid classification.\n",
    "- This model is revised the previous brutal model, here only the further added top model is trainable.\n",
    "- Data augmentation is applied upon traing every batch.\n",
    "\n",
    "## fine tune all bottom layers together with added layers"
   ]
  },
  {
   "cell_type": "code",
   "execution_count": 1,
   "metadata": {
    "collapsed": true
   },
   "outputs": [],
   "source": [
    "import matplotlib.pyplot as plt\n",
    "%matplotlib inline\n",
    "import numpy as np\n",
    "import pandas as pd\n",
    "import cv2\n",
    "import math\n",
    "from glob import glob\n",
    "import os\n",
    "import sys\n",
    "interpolation = cv2.INTER_LANCZOS4"
   ]
  },
  {
   "cell_type": "markdown",
   "metadata": {},
   "source": [
    "## Preprocess training images"
   ]
  },
  {
   "cell_type": "code",
   "execution_count": 2,
   "metadata": {
    "collapsed": false
   },
   "outputs": [],
   "source": [
    "master = pd.read_csv(\"../input/train_labels.csv\")\n",
    "img_path = \"../input/train/\"\n",
    "\n",
    "y = []\n",
    "file_paths = []\n",
    "for i in range(len(master)):\n",
    "    file_paths.append( img_path + str(master.iloc[i, 0]) +'.jpg' ) # .ix same as .iloc\n",
    "    y.append(master.iloc[i,1])\n",
    "y = np.array(y)"
   ]
  },
  {
   "cell_type": "markdown",
   "metadata": {},
   "source": [
    "#### This group of functions perfrom preprocessing of input training images\n",
    "\n",
    "- `centering_image`: input `img` has max size 256, and the other dim < 256. This function does zero_padding to make the `img` to size 256 x 256 x 3\n",
    "- The input raw image is first resized by the same percentage in col and row, the output image is feed to `cetering_image`\n",
    "- After that, the img is cropped to size 224 x 224 x 3"
   ]
  },
  {
   "cell_type": "code",
   "execution_count": 3,
   "metadata": {
    "collapsed": false
   },
   "outputs": [
    {
     "name": "stdout",
     "output_type": "stream",
     "text": [
      " ../input/train/2295.jpg from total 2295 images"
     ]
    }
   ],
   "source": [
    "def centering_image(img):\n",
    "    size = [256,256]\n",
    "    \n",
    "    img_size = img.shape[:2]\n",
    "    \n",
    "    # centering\n",
    "    row = (size[1] - img_size[0]) // 2\n",
    "    col = (size[0] - img_size[1]) // 2\n",
    "    resized = np.zeros(list(size) + [img.shape[2]], dtype=np.uint8)\n",
    "    resized[row:(row + img.shape[0]), col:(col + img.shape[1])] = img\n",
    "\n",
    "    return resized\n",
    "\n",
    "\n",
    "X = []\n",
    "for i, file_path in enumerate(file_paths):\n",
    "    sys.stdout.write(\"\\r {0} from total {1} images\".format(file_path, len(file_paths)))\n",
    "    sys.stdout.flush()\n",
    "    #read image\n",
    "    img = cv2.imread(file_path)\n",
    "    img = cv2.cvtColor(img, cv2.COLOR_BGR2RGB) \n",
    "    #resize\n",
    "    if(img.shape[0] > img.shape[1]):\n",
    "        tile_size = (int(img.shape[1]*256/img.shape[0]),256)\n",
    "    else:\n",
    "        tile_size = (256, int(img.shape[0]*256/img.shape[1]))\n",
    "    img = cv2.resize(img, dsize=tile_size, interpolation=interpolation)\n",
    "    #centering\n",
    "    img = centering_image(img)\n",
    "    #out put 224*224px \n",
    "    img = img[16:240, 16:240]\n",
    "    img = img.astype('float32')\n",
    "    img /= 255.0\n",
    "    X.append(img)\n",
    "\n",
    "X = np.array(X)"
   ]
  },
  {
   "cell_type": "markdown",
   "metadata": {},
   "source": [
    "## Train-test splitting"
   ]
  },
  {
   "cell_type": "code",
   "execution_count": 4,
   "metadata": {
    "collapsed": false
   },
   "outputs": [
    {
     "name": "stdout",
     "output_type": "stream",
     "text": [
      "X_train (1836, 224, 224, 3)\n",
      "y_train (1836,)\n",
      "X_val (459, 224, 224, 3)\n",
      "y_val (459,)\n"
     ]
    }
   ],
   "source": [
    "from sklearn.model_selection import train_test_split\n",
    "X_train, X_val, y_train, y_val = train_test_split(X, y, test_size=0.2, random_state=2017)\n",
    "\n",
    "print('X_train', X_train.shape)\n",
    "print('y_train', y_train.shape)\n",
    "print('X_val', X_val.shape)\n",
    "print('y_val', y_val.shape)"
   ]
  },
  {
   "cell_type": "markdown",
   "metadata": {},
   "source": [
    "## Using Keras VGG-16 pretrained model"
   ]
  },
  {
   "cell_type": "code",
   "execution_count": 11,
   "metadata": {
    "collapsed": false
   },
   "outputs": [],
   "source": [
    "from keras.models import Sequential, Model, load_model\n",
    "from keras import applications\n",
    "from keras import optimizers\n",
    "from keras.layers import Dropout, Flatten, Dense, BatchNormalization, Activation\n",
    "\n",
    "img_rows, img_cols, img_channel = 224, 224, 3\n",
    "\n",
    "base_model = applications.VGG16(weights='imagenet', include_top=False, \n",
    "                                input_shape=(img_rows, img_cols, img_channel))"
   ]
  },
  {
   "cell_type": "code",
   "execution_count": 12,
   "metadata": {
    "collapsed": true
   },
   "outputs": [],
   "source": [
    "x = base_model.output\n",
    "x = Flatten()(x)\n",
    "x = Dense(256, activation='relu')(x)\n",
    "layer_pred = Dense(1, activation='sigmoid')(x)\n",
    "\n",
    "model = Model(inputs=base_model.input, outputs=layer_pred)\n",
    "#model.compile(loss='binary_crossentropy', optimizer=optimizers.Adam(lr=1e-3, decay=0.003), metrics=['accuracy'])\n",
    "model.compile(loss='binary_crossentropy', optimizer=optimizers.SGD(lr=1e-4, momentum=0.9), metrics=['accuracy'])"
   ]
  },
  {
   "cell_type": "code",
   "execution_count": 13,
   "metadata": {
    "collapsed": false
   },
   "outputs": [
    {
     "name": "stdout",
     "output_type": "stream",
     "text": [
      "_________________________________________________________________\n",
      "Layer (type)                 Output Shape              Param #   \n",
      "=================================================================\n",
      "input_2 (InputLayer)         (None, 224, 224, 3)       0         \n",
      "_________________________________________________________________\n",
      "block1_conv1 (Conv2D)        (None, 224, 224, 64)      1792      \n",
      "_________________________________________________________________\n",
      "block1_conv2 (Conv2D)        (None, 224, 224, 64)      36928     \n",
      "_________________________________________________________________\n",
      "block1_pool (MaxPooling2D)   (None, 112, 112, 64)      0         \n",
      "_________________________________________________________________\n",
      "block2_conv1 (Conv2D)        (None, 112, 112, 128)     73856     \n",
      "_________________________________________________________________\n",
      "block2_conv2 (Conv2D)        (None, 112, 112, 128)     147584    \n",
      "_________________________________________________________________\n",
      "block2_pool (MaxPooling2D)   (None, 56, 56, 128)       0         \n",
      "_________________________________________________________________\n",
      "block3_conv1 (Conv2D)        (None, 56, 56, 256)       295168    \n",
      "_________________________________________________________________\n",
      "block3_conv2 (Conv2D)        (None, 56, 56, 256)       590080    \n",
      "_________________________________________________________________\n",
      "block3_conv3 (Conv2D)        (None, 56, 56, 256)       590080    \n",
      "_________________________________________________________________\n",
      "block3_pool (MaxPooling2D)   (None, 28, 28, 256)       0         \n",
      "_________________________________________________________________\n",
      "block4_conv1 (Conv2D)        (None, 28, 28, 512)       1180160   \n",
      "_________________________________________________________________\n",
      "block4_conv2 (Conv2D)        (None, 28, 28, 512)       2359808   \n",
      "_________________________________________________________________\n",
      "block4_conv3 (Conv2D)        (None, 28, 28, 512)       2359808   \n",
      "_________________________________________________________________\n",
      "block4_pool (MaxPooling2D)   (None, 14, 14, 512)       0         \n",
      "_________________________________________________________________\n",
      "block5_conv1 (Conv2D)        (None, 14, 14, 512)       2359808   \n",
      "_________________________________________________________________\n",
      "block5_conv2 (Conv2D)        (None, 14, 14, 512)       2359808   \n",
      "_________________________________________________________________\n",
      "block5_conv3 (Conv2D)        (None, 14, 14, 512)       2359808   \n",
      "_________________________________________________________________\n",
      "block5_pool (MaxPooling2D)   (None, 7, 7, 512)         0         \n",
      "_________________________________________________________________\n",
      "flatten_2 (Flatten)          (None, 25088)             0         \n",
      "_________________________________________________________________\n",
      "dense_3 (Dense)              (None, 256)               6422784   \n",
      "_________________________________________________________________\n",
      "dense_4 (Dense)              (None, 1)                 257       \n",
      "=================================================================\n",
      "Total params: 21,137,729\n",
      "Trainable params: 21,137,729\n",
      "Non-trainable params: 0\n",
      "_________________________________________________________________\n"
     ]
    }
   ],
   "source": [
    "model.summary()"
   ]
  },
  {
   "cell_type": "markdown",
   "metadata": {},
   "source": [
    "Set the layers of the pretrained vgg16 model to be fixed."
   ]
  },
  {
   "cell_type": "code",
   "execution_count": 14,
   "metadata": {
    "collapsed": true
   },
   "outputs": [],
   "source": [
    "for layer in model.layers[:19]:\n",
    "    layer.trainable = False"
   ]
  },
  {
   "cell_type": "code",
   "execution_count": 15,
   "metadata": {
    "collapsed": false
   },
   "outputs": [
    {
     "name": "stdout",
     "output_type": "stream",
     "text": [
      "_________________________________________________________________\n",
      "Layer (type)                 Output Shape              Param #   \n",
      "=================================================================\n",
      "input_2 (InputLayer)         (None, 224, 224, 3)       0         \n",
      "_________________________________________________________________\n",
      "block1_conv1 (Conv2D)        (None, 224, 224, 64)      1792      \n",
      "_________________________________________________________________\n",
      "block1_conv2 (Conv2D)        (None, 224, 224, 64)      36928     \n",
      "_________________________________________________________________\n",
      "block1_pool (MaxPooling2D)   (None, 112, 112, 64)      0         \n",
      "_________________________________________________________________\n",
      "block2_conv1 (Conv2D)        (None, 112, 112, 128)     73856     \n",
      "_________________________________________________________________\n",
      "block2_conv2 (Conv2D)        (None, 112, 112, 128)     147584    \n",
      "_________________________________________________________________\n",
      "block2_pool (MaxPooling2D)   (None, 56, 56, 128)       0         \n",
      "_________________________________________________________________\n",
      "block3_conv1 (Conv2D)        (None, 56, 56, 256)       295168    \n",
      "_________________________________________________________________\n",
      "block3_conv2 (Conv2D)        (None, 56, 56, 256)       590080    \n",
      "_________________________________________________________________\n",
      "block3_conv3 (Conv2D)        (None, 56, 56, 256)       590080    \n",
      "_________________________________________________________________\n",
      "block3_pool (MaxPooling2D)   (None, 28, 28, 256)       0         \n",
      "_________________________________________________________________\n",
      "block4_conv1 (Conv2D)        (None, 28, 28, 512)       1180160   \n",
      "_________________________________________________________________\n",
      "block4_conv2 (Conv2D)        (None, 28, 28, 512)       2359808   \n",
      "_________________________________________________________________\n",
      "block4_conv3 (Conv2D)        (None, 28, 28, 512)       2359808   \n",
      "_________________________________________________________________\n",
      "block4_pool (MaxPooling2D)   (None, 14, 14, 512)       0         \n",
      "_________________________________________________________________\n",
      "block5_conv1 (Conv2D)        (None, 14, 14, 512)       2359808   \n",
      "_________________________________________________________________\n",
      "block5_conv2 (Conv2D)        (None, 14, 14, 512)       2359808   \n",
      "_________________________________________________________________\n",
      "block5_conv3 (Conv2D)        (None, 14, 14, 512)       2359808   \n",
      "_________________________________________________________________\n",
      "block5_pool (MaxPooling2D)   (None, 7, 7, 512)         0         \n",
      "_________________________________________________________________\n",
      "flatten_2 (Flatten)          (None, 25088)             0         \n",
      "_________________________________________________________________\n",
      "dense_3 (Dense)              (None, 256)               6422784   \n",
      "_________________________________________________________________\n",
      "dense_4 (Dense)              (None, 1)                 257       \n",
      "=================================================================\n",
      "Total params: 21,137,729\n",
      "Trainable params: 6,423,041\n",
      "Non-trainable params: 14,714,688\n",
      "_________________________________________________________________\n"
     ]
    }
   ],
   "source": [
    "model.summary()"
   ]
  },
  {
   "cell_type": "markdown",
   "metadata": {},
   "source": [
    "### Model fitting with data augmentation"
   ]
  },
  {
   "cell_type": "code",
   "execution_count": 16,
   "metadata": {
    "collapsed": false,
    "scrolled": false
   },
   "outputs": [
    {
     "name": "stdout",
     "output_type": "stream",
     "text": [
      "Epoch 1/30\n",
      "106s - loss: 0.5454 - acc: 0.7160 - val_loss: 0.3537 - val_acc: 0.8388\n",
      "Epoch 2/30\n",
      "105s - loss: 0.2892 - acc: 0.8772 - val_loss: 0.1969 - val_acc: 0.9368\n",
      "Epoch 3/30\n",
      "105s - loss: 0.2475 - acc: 0.8999 - val_loss: 0.1634 - val_acc: 0.9455\n",
      "Epoch 4/30\n",
      "105s - loss: 0.2144 - acc: 0.9111 - val_loss: 0.1456 - val_acc: 0.9521\n",
      "Epoch 5/30\n",
      "103s - loss: 0.1985 - acc: 0.9256 - val_loss: 0.1724 - val_acc: 0.9368\n",
      "Epoch 6/30\n",
      "105s - loss: 0.1550 - acc: 0.9446 - val_loss: 0.1052 - val_acc: 0.9717\n",
      "Epoch 7/30\n",
      "103s - loss: 0.1346 - acc: 0.9550 - val_loss: 0.1101 - val_acc: 0.9608\n",
      "Epoch 8/30\n",
      "103s - loss: 0.1311 - acc: 0.9556 - val_loss: 0.1153 - val_acc: 0.9608\n",
      "Epoch 9/30\n",
      "105s - loss: 0.1289 - acc: 0.9556 - val_loss: 0.0849 - val_acc: 0.9739\n",
      "Epoch 10/30\n",
      "103s - loss: 0.1160 - acc: 0.9516 - val_loss: 0.0824 - val_acc: 0.9739\n",
      "Epoch 11/30\n",
      "103s - loss: 0.0983 - acc: 0.9651 - val_loss: 0.0851 - val_acc: 0.9739\n",
      "Epoch 12/30\n",
      "103s - loss: 0.1193 - acc: 0.9605 - val_loss: 0.0775 - val_acc: 0.9717\n",
      "Epoch 13/30\n",
      "103s - loss: 0.0901 - acc: 0.9700 - val_loss: 0.0826 - val_acc: 0.9717\n",
      "Epoch 14/30\n",
      "103s - loss: 0.0866 - acc: 0.9717 - val_loss: 0.1015 - val_acc: 0.9717\n",
      "Epoch 15/30\n",
      "103s - loss: 0.1153 - acc: 0.9629 - val_loss: 0.0706 - val_acc: 0.9739\n",
      "Epoch 16/30\n",
      "103s - loss: 0.0885 - acc: 0.9671 - val_loss: 0.2209 - val_acc: 0.9194\n",
      "Epoch 17/30\n",
      "103s - loss: 0.0868 - acc: 0.9687 - val_loss: 0.1779 - val_acc: 0.9368\n",
      "Epoch 18/30\n",
      "103s - loss: 0.0787 - acc: 0.9709 - val_loss: 0.0823 - val_acc: 0.9717\n",
      "Epoch 19/30\n",
      "103s - loss: 0.0715 - acc: 0.9717 - val_loss: 0.0982 - val_acc: 0.9695\n",
      "Epoch 20/30\n",
      "103s - loss: 0.0734 - acc: 0.9766 - val_loss: 0.0948 - val_acc: 0.9695\n",
      "Epoch 21/30\n",
      "104s - loss: 0.0656 - acc: 0.9722 - val_loss: 0.0817 - val_acc: 0.9760\n",
      "Epoch 22/30\n",
      "104s - loss: 0.0753 - acc: 0.9715 - val_loss: 0.0539 - val_acc: 0.9826\n",
      "Epoch 23/30\n",
      "103s - loss: 0.0558 - acc: 0.9792 - val_loss: 0.0869 - val_acc: 0.9739\n",
      "Epoch 24/30\n",
      "103s - loss: 0.0653 - acc: 0.9759 - val_loss: 0.1187 - val_acc: 0.9542\n",
      "Epoch 25/30\n",
      "103s - loss: 0.0531 - acc: 0.9799 - val_loss: 0.0805 - val_acc: 0.9760\n",
      "Epoch 26/30\n",
      "103s - loss: 0.0367 - acc: 0.9874 - val_loss: 0.0583 - val_acc: 0.9826\n",
      "Epoch 27/30\n",
      "103s - loss: 0.0445 - acc: 0.9835 - val_loss: 0.0547 - val_acc: 0.9826\n",
      "Epoch 28/30\n",
      "103s - loss: 0.0409 - acc: 0.9846 - val_loss: 0.2889 - val_acc: 0.9172\n",
      "Epoch 29/30\n",
      "103s - loss: 0.0533 - acc: 0.9792 - val_loss: 0.0950 - val_acc: 0.9739\n",
      "Epoch 30/30\n",
      "103s - loss: 0.0368 - acc: 0.9868 - val_loss: 0.0642 - val_acc: 0.9804\n"
     ]
    }
   ],
   "source": [
    "from keras.preprocessing.image import ImageDataGenerator\n",
    "from keras.callbacks import ModelCheckpoint\n",
    "\n",
    "batch_size = 32\n",
    "epochs = 30\n",
    "\n",
    "train_datagen = ImageDataGenerator(\n",
    "        rotation_range=30, \n",
    "        width_shift_range=0.1,\n",
    "        height_shift_range=0.1, \n",
    "        horizontal_flip=True)\n",
    "train_datagen.fit(X_train)\n",
    "\n",
    "history = model.fit_generator(\n",
    "    train_datagen.flow(X_train, y_train, batch_size=batch_size),\n",
    "    steps_per_epoch=X_train.shape[0] // batch_size,\n",
    "    epochs=epochs,\n",
    "    verbose=2,\n",
    "    validation_data=(X_val, y_val),\n",
    "    callbacks=[ModelCheckpoint('VGG16-transferlearning_topmodel.model', monitor='val_acc', save_best_only=True)])"
   ]
  },
  {
   "cell_type": "markdown",
   "metadata": {},
   "source": [
    "### Model prediction on validation images"
   ]
  },
  {
   "cell_type": "code",
   "execution_count": 17,
   "metadata": {
    "collapsed": false
   },
   "outputs": [],
   "source": [
    "model.load_weights('VGG16-transferlearning_topmodel.model')\n",
    "#model.compile(loss='binary_crossentropy', optimizer=optimizers.Adam(lr=1e-3, decay=0.003), metrics=['accuracy'])"
   ]
  },
  {
   "cell_type": "code",
   "execution_count": 18,
   "metadata": {
    "collapsed": true
   },
   "outputs": [],
   "source": [
    "y_val_pred = model.predict(X_val)"
   ]
  },
  {
   "cell_type": "markdown",
   "metadata": {},
   "source": [
    "#### Prediction accuracy"
   ]
  },
  {
   "cell_type": "code",
   "execution_count": 19,
   "metadata": {
    "collapsed": false
   },
   "outputs": [
    {
     "name": "stdout",
     "output_type": "stream",
     "text": [
      "Val accuracy: 0.982571\n"
     ]
    }
   ],
   "source": [
    "y_val_pred_cls = (y_val_pred > 0.5).astype('int')\n",
    "acc = np.sum(y_val == y_val_pred_cls.reshape(-1)) / y_val.shape[0]\n",
    "print('Val accuracy: {:.6f}'.format(acc))"
   ]
  },
  {
   "cell_type": "markdown",
   "metadata": {},
   "source": [
    "#### ROC curve"
   ]
  },
  {
   "cell_type": "code",
   "execution_count": 20,
   "metadata": {
    "collapsed": true
   },
   "outputs": [],
   "source": [
    "from sklearn.metrics import roc_curve, auc\n",
    "def roc_plot(y_test, y_pred_proba):\n",
    "    fpr, tpr, _ = roc_curve(y_test, y_pred_proba)\n",
    "    roc_auc = auc(fpr, tpr)\n",
    "    \n",
    "    plt.figure()\n",
    "    lw = 2\n",
    "    plt.plot(fpr, tpr, color='darkorange', lw=lw, label='ROC curve (area = %0.6f)' % roc_auc)\n",
    "    plt.plot([0, 1], [0, 1], color='navy', lw=lw, linestyle='--')\n",
    "    plt.xlim([0.0, 1.0])\n",
    "    plt.ylim([0.0, 1.05])\n",
    "    plt.xlabel('False Positive Rate')\n",
    "    plt.ylabel('True Positive Rate')\n",
    "    plt.title('Receiver operating characteristic example')\n",
    "    plt.legend(loc=\"lower right\")\n",
    "    plt.show()"
   ]
  },
  {
   "cell_type": "code",
   "execution_count": 21,
   "metadata": {
    "collapsed": false
   },
   "outputs": [
    {
     "data": {
      "image/png": "[encoded data removed]",
      "text/plain": [
       "<matplotlib.figure.Figure at 0x7f2ebb6e2048>"
      ]
     },
     "metadata": {},
     "output_type": "display_data"
    }
   ],
   "source": [
    "roc_plot(y_val, y_val_pred.reshape(-1))"
   ]
  },
  {
   "cell_type": "markdown",
   "metadata": {},
   "source": [
    "## Fine-tune the pretrained VGG-16 model plus added layers"
   ]
  },
  {
   "cell_type": "code",
   "execution_count": 22,
   "metadata": {
    "collapsed": false
   },
   "outputs": [
    {
     "name": "stdout",
     "output_type": "stream",
     "text": [
      "_________________________________________________________________\n",
      "Layer (type)                 Output Shape              Param #   \n",
      "=================================================================\n",
      "input_2 (InputLayer)         (None, 224, 224, 3)       0         \n",
      "_________________________________________________________________\n",
      "block1_conv1 (Conv2D)        (None, 224, 224, 64)      1792      \n",
      "_________________________________________________________________\n",
      "block1_conv2 (Conv2D)        (None, 224, 224, 64)      36928     \n",
      "_________________________________________________________________\n",
      "block1_pool (MaxPooling2D)   (None, 112, 112, 64)      0         \n",
      "_________________________________________________________________\n",
      "block2_conv1 (Conv2D)        (None, 112, 112, 128)     73856     \n",
      "_________________________________________________________________\n",
      "block2_conv2 (Conv2D)        (None, 112, 112, 128)     147584    \n",
      "_________________________________________________________________\n",
      "block2_pool (MaxPooling2D)   (None, 56, 56, 128)       0         \n",
      "_________________________________________________________________\n",
      "block3_conv1 (Conv2D)        (None, 56, 56, 256)       295168    \n",
      "_________________________________________________________________\n",
      "block3_conv2 (Conv2D)        (None, 56, 56, 256)       590080    \n",
      "_________________________________________________________________\n",
      "block3_conv3 (Conv2D)        (None, 56, 56, 256)       590080    \n",
      "_________________________________________________________________\n",
      "block3_pool (MaxPooling2D)   (None, 28, 28, 256)       0         \n",
      "_________________________________________________________________\n",
      "block4_conv1 (Conv2D)        (None, 28, 28, 512)       1180160   \n",
      "_________________________________________________________________\n",
      "block4_conv2 (Conv2D)        (None, 28, 28, 512)       2359808   \n",
      "_________________________________________________________________\n",
      "block4_conv3 (Conv2D)        (None, 28, 28, 512)       2359808   \n",
      "_________________________________________________________________\n",
      "block4_pool (MaxPooling2D)   (None, 14, 14, 512)       0         \n",
      "_________________________________________________________________\n",
      "block5_conv1 (Conv2D)        (None, 14, 14, 512)       2359808   \n",
      "_________________________________________________________________\n",
      "block5_conv2 (Conv2D)        (None, 14, 14, 512)       2359808   \n",
      "_________________________________________________________________\n",
      "block5_conv3 (Conv2D)        (None, 14, 14, 512)       2359808   \n",
      "_________________________________________________________________\n",
      "block5_pool (MaxPooling2D)   (None, 7, 7, 512)         0         \n",
      "_________________________________________________________________\n",
      "flatten_2 (Flatten)          (None, 25088)             0         \n",
      "_________________________________________________________________\n",
      "dense_3 (Dense)              (None, 256)               6422784   \n",
      "_________________________________________________________________\n",
      "dense_4 (Dense)              (None, 1)                 257       \n",
      "=================================================================\n",
      "Total params: 21,137,729\n",
      "Trainable params: 13,502,465\n",
      "Non-trainable params: 7,635,264\n",
      "_________________________________________________________________\n"
     ]
    }
   ],
   "source": [
    "for layer in model.layers[:15]:\n",
    "    layer.trainable = False\n",
    "for layer in model.layers[15:]: \n",
    "    layer.trainable = True\n",
    "model.compile(loss='binary_crossentropy', optimizer=optimizers.SGD(lr=1e-4, momentum=0.9), metrics=['accuracy'])\n",
    "model.summary()"
   ]
  },
  {
   "cell_type": "markdown",
   "metadata": {},
   "source": [
    "### Start fine tuning with training images"
   ]
  },
  {
   "cell_type": "code",
   "execution_count": 23,
   "metadata": {
    "collapsed": false
   },
   "outputs": [
    {
     "name": "stdout",
     "output_type": "stream",
     "text": [
      "Epoch 1/20\n",
      "42s - loss: 0.0508 - acc: 0.9836 - val_loss: 0.0803 - val_acc: 0.9739\n",
      "Epoch 2/20\n",
      "41s - loss: 0.0491 - acc: 0.9841 - val_loss: 0.1040 - val_acc: 0.9673\n",
      "Epoch 3/20\n",
      "42s - loss: 0.0439 - acc: 0.9857 - val_loss: 0.0704 - val_acc: 0.9782\n",
      "Epoch 4/20\n",
      "41s - loss: 0.0408 - acc: 0.9857 - val_loss: 0.1001 - val_acc: 0.9673\n",
      "Epoch 5/20\n",
      "41s - loss: 0.0520 - acc: 0.9819 - val_loss: 0.0793 - val_acc: 0.9760\n",
      "Epoch 6/20\n",
      "41s - loss: 0.0431 - acc: 0.9852 - val_loss: 0.0740 - val_acc: 0.9782\n",
      "Epoch 7/20\n",
      "41s - loss: 0.0371 - acc: 0.9852 - val_loss: 0.1011 - val_acc: 0.9630\n",
      "Epoch 8/20\n",
      "41s - loss: 0.0351 - acc: 0.9868 - val_loss: 0.1053 - val_acc: 0.9608\n",
      "Epoch 9/20\n",
      "41s - loss: 0.0356 - acc: 0.9890 - val_loss: 0.0851 - val_acc: 0.9717\n",
      "Epoch 10/20\n",
      "41s - loss: 0.0424 - acc: 0.9835 - val_loss: 0.0814 - val_acc: 0.9760\n",
      "Epoch 11/20\n",
      "41s - loss: 0.0372 - acc: 0.9874 - val_loss: 0.0734 - val_acc: 0.9760\n",
      "Epoch 12/20\n",
      "41s - loss: 0.0386 - acc: 0.9857 - val_loss: 0.1323 - val_acc: 0.9521\n",
      "Epoch 13/20\n",
      "41s - loss: 0.0324 - acc: 0.9896 - val_loss: 0.0728 - val_acc: 0.9760\n",
      "Epoch 14/20\n",
      "41s - loss: 0.0316 - acc: 0.9912 - val_loss: 0.0685 - val_acc: 0.9782\n",
      "Epoch 15/20\n",
      "41s - loss: 0.0372 - acc: 0.9879 - val_loss: 0.0894 - val_acc: 0.9739\n",
      "Epoch 16/20\n",
      "41s - loss: 0.0376 - acc: 0.9868 - val_loss: 0.0727 - val_acc: 0.9760\n",
      "Epoch 17/20\n",
      "41s - loss: 0.0286 - acc: 0.9890 - val_loss: 0.1182 - val_acc: 0.9586\n",
      "Epoch 18/20\n",
      "41s - loss: 0.0349 - acc: 0.9857 - val_loss: 0.0851 - val_acc: 0.9739\n",
      "Epoch 19/20\n",
      "41s - loss: 0.0309 - acc: 0.9896 - val_loss: 0.0781 - val_acc: 0.9739\n",
      "Epoch 20/20\n",
      "41s - loss: 0.0348 - acc: 0.9874 - val_loss: 0.1041 - val_acc: 0.9608\n"
     ]
    }
   ],
   "source": [
    "from keras.preprocessing.image import ImageDataGenerator\n",
    "from keras.callbacks import ModelCheckpoint\n",
    "\n",
    "batch_size = 32\n",
    "epochs = 20\n",
    "\n",
    "train_datagen = ImageDataGenerator(\n",
    "        rotation_range=30, \n",
    "        width_shift_range=0.1,\n",
    "        height_shift_range=0.1, \n",
    "        horizontal_flip=True)\n",
    "train_datagen.fit(X_train)\n",
    "\n",
    "history1 = model.fit_generator(\n",
    "    train_datagen.flow(X_train, y_train, batch_size=batch_size),\n",
    "    steps_per_epoch=X_train.shape[0] // batch_size,\n",
    "    epochs=epochs,\n",
    "    verbose=2,\n",
    "    validation_data=(X_val, y_val),\n",
    "    callbacks=[ModelCheckpoint('VGG16-transferlearning_finetune.model', monitor='val_acc', save_best_only=True)])"
   ]
  },
  {
   "cell_type": "markdown",
   "metadata": {},
   "source": [
    "### Model prediction on validation images"
   ]
  },
  {
   "cell_type": "code",
   "execution_count": 24,
   "metadata": {
    "collapsed": false
   },
   "outputs": [],
   "source": [
    "model.load_weights('VGG16-transferlearning_finetune.model')\n",
    "#model.compile(loss='binary_crossentropy', optimizer=optimizers.SGD(lr=1e-4, momentum=0.9), metrics=['accuracy'])\n",
    "y_val_pred = model.predict(X_val)"
   ]
  },
  {
   "cell_type": "markdown",
   "metadata": {},
   "source": [
    "#### Prediction accuracy"
   ]
  },
  {
   "cell_type": "code",
   "execution_count": 25,
   "metadata": {
    "collapsed": false
   },
   "outputs": [
    {
     "name": "stdout",
     "output_type": "stream",
     "text": [
      "Val accuracy: 0.978214\n"
     ]
    }
   ],
   "source": [
    "y_val_pred_cls = (y_val_pred > 0.5).astype('int')\n",
    "acc = np.sum(y_val == y_val_pred_cls.reshape(-1)) / y_val.shape[0]\n",
    "print('Val accuracy: {:.6f}'.format(acc))"
   ]
  },
  {
   "cell_type": "markdown",
   "metadata": {},
   "source": [
    "#### ROC curve"
   ]
  },
  {
   "cell_type": "code",
   "execution_count": 26,
   "metadata": {
    "collapsed": false
   },
   "outputs": [
    {
     "data": {
      "image/png": "[encoded data removed]",
      "text/plain": [
       "<matplotlib.figure.Figure at 0x7f2ebb4b47b8>"
      ]
     },
     "metadata": {},
     "output_type": "display_data"
    }
   ],
   "source": [
    "roc_plot(y_val, y_val_pred.reshape(-1))"
   ]
  },
  {
   "cell_type": "markdown",
   "metadata": {
    "collapsed": true
   },
   "source": [
    "## Fine tuning the whole network start from the *topmodel*"
   ]
  },
  {
   "cell_type": "code",
   "execution_count": 27,
   "metadata": {
    "collapsed": false
   },
   "outputs": [
    {
     "name": "stdout",
     "output_type": "stream",
     "text": [
      "_________________________________________________________________\n",
      "Layer (type)                 Output Shape              Param #   \n",
      "=================================================================\n",
      "input_2 (InputLayer)         (None, 224, 224, 3)       0         \n",
      "_________________________________________________________________\n",
      "block1_conv1 (Conv2D)        (None, 224, 224, 64)      1792      \n",
      "_________________________________________________________________\n",
      "block1_conv2 (Conv2D)        (None, 224, 224, 64)      36928     \n",
      "_________________________________________________________________\n",
      "block1_pool (MaxPooling2D)   (None, 112, 112, 64)      0         \n",
      "_________________________________________________________________\n",
      "block2_conv1 (Conv2D)        (None, 112, 112, 128)     73856     \n",
      "_________________________________________________________________\n",
      "block2_conv2 (Conv2D)        (None, 112, 112, 128)     147584    \n",
      "_________________________________________________________________\n",
      "block2_pool (MaxPooling2D)   (None, 56, 56, 128)       0         \n",
      "_________________________________________________________________\n",
      "block3_conv1 (Conv2D)        (None, 56, 56, 256)       295168    \n",
      "_________________________________________________________________\n",
      "block3_conv2 (Conv2D)        (None, 56, 56, 256)       590080    \n",
      "_________________________________________________________________\n",
      "block3_conv3 (Conv2D)        (None, 56, 56, 256)       590080    \n",
      "_________________________________________________________________\n",
      "block3_pool (MaxPooling2D)   (None, 28, 28, 256)       0         \n",
      "_________________________________________________________________\n",
      "block4_conv1 (Conv2D)        (None, 28, 28, 512)       1180160   \n",
      "_________________________________________________________________\n",
      "block4_conv2 (Conv2D)        (None, 28, 28, 512)       2359808   \n",
      "_________________________________________________________________\n",
      "block4_conv3 (Conv2D)        (None, 28, 28, 512)       2359808   \n",
      "_________________________________________________________________\n",
      "block4_pool (MaxPooling2D)   (None, 14, 14, 512)       0         \n",
      "_________________________________________________________________\n",
      "block5_conv1 (Conv2D)        (None, 14, 14, 512)       2359808   \n",
      "_________________________________________________________________\n",
      "block5_conv2 (Conv2D)        (None, 14, 14, 512)       2359808   \n",
      "_________________________________________________________________\n",
      "block5_conv3 (Conv2D)        (None, 14, 14, 512)       2359808   \n",
      "_________________________________________________________________\n",
      "block5_pool (MaxPooling2D)   (None, 7, 7, 512)         0         \n",
      "_________________________________________________________________\n",
      "flatten_2 (Flatten)          (None, 25088)             0         \n",
      "_________________________________________________________________\n",
      "dense_3 (Dense)              (None, 256)               6422784   \n",
      "_________________________________________________________________\n",
      "dense_4 (Dense)              (None, 1)                 257       \n",
      "=================================================================\n",
      "Total params: 21,137,729\n",
      "Trainable params: 21,137,729\n",
      "Non-trainable params: 0\n",
      "_________________________________________________________________\n"
     ]
    }
   ],
   "source": [
    "model.load_weights('VGG16-transferlearning_topmodel.model')\n",
    "for layer in model.layers: \n",
    "    layer.trainable = True\n",
    "model.compile(loss='binary_crossentropy', optimizer=optimizers.SGD(lr=1e-4, momentum=0.9), metrics=['accuracy'])\n",
    "model.summary()"
   ]
  },
  {
   "cell_type": "code",
   "execution_count": 28,
   "metadata": {
    "collapsed": false
   },
   "outputs": [
    {
     "name": "stdout",
     "output_type": "stream",
     "text": [
      "Epoch 1/20\n",
      "105s - loss: 0.0516 - acc: 0.9808 - val_loss: 0.0956 - val_acc: 0.9739\n",
      "Epoch 2/20\n",
      "104s - loss: 0.0645 - acc: 0.9777 - val_loss: 0.0753 - val_acc: 0.9804\n",
      "Epoch 3/20\n",
      "103s - loss: 0.0486 - acc: 0.9841 - val_loss: 0.1090 - val_acc: 0.9673\n",
      "Epoch 4/20\n",
      "103s - loss: 0.0627 - acc: 0.9805 - val_loss: 0.0976 - val_acc: 0.9651\n",
      "Epoch 5/20\n",
      "103s - loss: 0.0405 - acc: 0.9879 - val_loss: 0.1189 - val_acc: 0.9586\n",
      "Epoch 6/20\n",
      "104s - loss: 0.0379 - acc: 0.9852 - val_loss: 0.0573 - val_acc: 0.9826\n",
      "Epoch 7/20\n",
      "103s - loss: 0.0880 - acc: 0.9682 - val_loss: 0.0969 - val_acc: 0.9608\n",
      "Epoch 8/20\n",
      "103s - loss: 0.0669 - acc: 0.9781 - val_loss: 0.1189 - val_acc: 0.9630\n",
      "Epoch 9/20\n",
      "103s - loss: 0.0439 - acc: 0.9837 - val_loss: 0.0984 - val_acc: 0.9695\n",
      "Epoch 10/20\n",
      "103s - loss: 0.0333 - acc: 0.9907 - val_loss: 0.1131 - val_acc: 0.9651\n",
      "Epoch 11/20\n",
      "103s - loss: 0.0403 - acc: 0.9863 - val_loss: 0.0606 - val_acc: 0.9804\n",
      "Epoch 12/20\n",
      "103s - loss: 0.0284 - acc: 0.9907 - val_loss: 0.0865 - val_acc: 0.9695\n",
      "Epoch 13/20\n",
      "103s - loss: 0.0454 - acc: 0.9819 - val_loss: 0.1604 - val_acc: 0.9564\n",
      "Epoch 14/20\n",
      "103s - loss: 0.0400 - acc: 0.9863 - val_loss: 0.1013 - val_acc: 0.9651\n",
      "Epoch 15/20\n",
      "103s - loss: 0.0355 - acc: 0.9879 - val_loss: 0.0681 - val_acc: 0.9760\n",
      "Epoch 16/20\n",
      "103s - loss: 0.0279 - acc: 0.9901 - val_loss: 0.0786 - val_acc: 0.9717\n",
      "Epoch 17/20\n",
      "103s - loss: 0.0299 - acc: 0.9896 - val_loss: 0.0407 - val_acc: 0.9826\n",
      "Epoch 18/20\n",
      "103s - loss: 0.0346 - acc: 0.9881 - val_loss: 0.0547 - val_acc: 0.9782\n",
      "Epoch 19/20\n",
      "104s - loss: 0.0334 - acc: 0.9863 - val_loss: 0.0444 - val_acc: 0.9869\n",
      "Epoch 20/20\n",
      "103s - loss: 0.0288 - acc: 0.9912 - val_loss: 0.1472 - val_acc: 0.9564\n"
     ]
    }
   ],
   "source": [
    "from keras.preprocessing.image import ImageDataGenerator\n",
    "from keras.callbacks import ModelCheckpoint\n",
    "\n",
    "batch_size = 32\n",
    "epochs = 20\n",
    "\n",
    "train_datagen = ImageDataGenerator(\n",
    "        rotation_range=30, \n",
    "        width_shift_range=0.1,\n",
    "        height_shift_range=0.1, \n",
    "        horizontal_flip=True)\n",
    "train_datagen.fit(X_train)\n",
    "\n",
    "history1 = model.fit_generator(\n",
    "    train_datagen.flow(X_train, y_train, batch_size=batch_size),\n",
    "    steps_per_epoch=X_train.shape[0] // batch_size,\n",
    "    epochs=epochs,\n",
    "    verbose=2,\n",
    "    validation_data=(X_val, y_val),\n",
    "    callbacks=[ModelCheckpoint('VGG16-transferlearning_finetuneall.model', monitor='val_acc', save_best_only=True)])"
   ]
  },
  {
   "cell_type": "markdown",
   "metadata": {},
   "source": [
    "### Model prediction on validation images"
   ]
  },
  {
   "cell_type": "code",
   "execution_count": 30,
   "metadata": {
    "collapsed": true
   },
   "outputs": [],
   "source": [
    "model.load_weights('VGG16-transferlearning_finetuneall.model')\n",
    "#model.compile(loss='binary_crossentropy', optimizer=optimizers.SGD(lr=1e-4, momentum=0.9), metrics=['accuracy'])\n",
    "y_val_pred = model.predict(X_val)"
   ]
  },
  {
   "cell_type": "markdown",
   "metadata": {},
   "source": [
    "#### Prediction accuracy"
   ]
  },
  {
   "cell_type": "code",
   "execution_count": 31,
   "metadata": {
    "collapsed": false
   },
   "outputs": [
    {
     "name": "stdout",
     "output_type": "stream",
     "text": [
      "Val accuracy: 0.986928\n"
     ]
    }
   ],
   "source": [
    "y_val_pred_cls = (y_val_pred > 0.5).astype('int')\n",
    "acc = np.sum(y_val == y_val_pred_cls.reshape(-1)) / y_val.shape[0]\n",
    "print('Val accuracy: {:.6f}'.format(acc))"
   ]
  },
  {
   "cell_type": "markdown",
   "metadata": {},
   "source": [
    "#### ROC Curve"
   ]
  },
  {
   "cell_type": "code",
   "execution_count": 32,
   "metadata": {
    "collapsed": false
   },
   "outputs": [
    {
     "data": {
      "image/png": "[encoded data removed]",
      "text/plain": [
       "<matplotlib.figure.Figure at 0x7f2ebb3b6f60>"
      ]
     },
     "metadata": {},
     "output_type": "display_data"
    }
   ],
   "source": [
    "roc_plot(y_val, y_val_pred.reshape(-1))"
   ]
  },
  {
   "cell_type": "markdown",
   "metadata": {},
   "source": [
    "## Predict on test images\n",
    "\n",
    "### Load test images"
   ]
  },
  {
   "cell_type": "code",
   "execution_count": 33,
   "metadata": {
    "collapsed": true
   },
   "outputs": [],
   "source": [
    "sample_submission = pd.read_csv(\"../input/sample_submission.csv\")\n",
    "img_path = \"../input/test/\"\n",
    "\n",
    "test_names = []\n",
    "file_paths = []\n",
    "\n",
    "for i in range(len(sample_submission)):\n",
    "    test_names.append(sample_submission.iloc[i,0])\n",
    "    file_paths.append( img_path + str(int(sample_submission.iloc[i,0])) +'.jpg' )\n",
    "\n",
    "test_names = np.array(test_names)"
   ]
  },
  {
   "cell_type": "code",
   "execution_count": 34,
   "metadata": {
    "collapsed": false
   },
   "outputs": [
    {
     "name": "stdout",
     "output_type": "stream",
     "text": [
      " ../input/test/1531.jpg from total 1531 images"
     ]
    }
   ],
   "source": [
    "X_test = []\n",
    "for i, file_path in enumerate(file_paths):\n",
    "    sys.stdout.write(\"\\r {0} from total {1} images\".format(file_path, len(file_paths)))\n",
    "    sys.stdout.flush()\n",
    "\n",
    "    #read image\n",
    "    img = cv2.imread(file_path)\n",
    "    img = cv2.cvtColor(img, cv2.COLOR_BGR2RGB)\n",
    "\n",
    "    #resize\n",
    "    if(img.shape[0] > img.shape[1]):\n",
    "        tile_size = (int(img.shape[1]*256/img.shape[0]),256)\n",
    "    else:\n",
    "        tile_size = (256, int(img.shape[0]*256/img.shape[1]))\n",
    "\n",
    "    #centering\n",
    "    img = centering_image(cv2.resize(img, dsize=tile_size, interpolation=interpolation))\n",
    "    \n",
    "    #out put 224*224px \n",
    "    img = img[16:240, 16:240]\n",
    "    img = img.astype('float32')\n",
    "    img /= 255.0\n",
    "    X_test.append(img)\n",
    "\n",
    "X_test = np.array(X_test)"
   ]
  },
  {
   "cell_type": "markdown",
   "metadata": {},
   "source": [
    "### Model load and prediction"
   ]
  },
  {
   "cell_type": "code",
   "execution_count": 35,
   "metadata": {
    "collapsed": true
   },
   "outputs": [],
   "source": [
    "model.load_weights('VGG16-transferlearning_finetuneall.model')\n",
    "y_test_pred = model.predict(X_test)"
   ]
  },
  {
   "cell_type": "markdown",
   "metadata": {},
   "source": [
    "### Write to file"
   ]
  },
  {
   "cell_type": "code",
   "execution_count": 36,
   "metadata": {
    "collapsed": true
   },
   "outputs": [],
   "source": [
    "def submission_to_csv(test_preds, file_path):\n",
    "    sample_submission = pd.read_csv(\"../input/sample_submission.csv\")\n",
    "    for i, name in enumerate(test_names):\n",
    "        sample_submission.loc[sample_submission['name'] == name, 'invasive'] = test_preds[i]\n",
    "    sample_submission.to_csv(file_path, index=False)"
   ]
  },
  {
   "cell_type": "code",
   "execution_count": 37,
   "metadata": {
    "collapsed": true
   },
   "outputs": [],
   "source": [
    "submission_to_csv(test_preds=y_test_pred, file_path='submit_finetuneall.csv')"
   ]
  },
  {
   "cell_type": "code",
   "execution_count": null,
   "metadata": {
    "collapsed": true
   },
   "outputs": [],
   "source": []
  }
 ],
 "metadata": {
  "kernelspec": {
   "display_name": "Python 3",
   "language": "python",
   "name": "python3"
  },
  "language_info": {
   "codemirror_mode": {
    "name": "ipython",
    "version": 3
   },
   "file_extension": ".py",
   "mimetype": "text/x-python",
   "name": "python",
   "nbconvert_exporter": "python",
   "pygments_lexer": "ipython3",
   "version": "3.6.0"
  },
  "toc": {
   "colors": {
    "hover_highlight": "#DAA520",
    "navigate_num": "#000000",
    "navigate_text": "#333333",
    "running_highlight": "#FF0000",
    "selected_highlight": "#FFD700",
    "sidebar_border": "#EEEEEE",
    "wrapper_background": "#FFFFFF"
   },
   "moveMenuLeft": true,
   "nav_menu": {
    "height": "63px",
    "width": "252px"
   },
   "navigate_menu": true,
   "number_sections": true,
   "sideBar": true,
   "threshold": 4,
   "toc_cell": false,
   "toc_section_display": "block",
   "toc_window_display": false,
   "widenNotebook": false
  }
 },
 "nbformat": 4,
 "nbformat_minor": 2
}
