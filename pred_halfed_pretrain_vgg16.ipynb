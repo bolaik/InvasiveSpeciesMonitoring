{
 "cells": [
  {
   "cell_type": "markdown",
   "metadata": {},
   "source": [
    "# Use different size crop of raw images from center for prediction"
   ]
  },
  {
   "cell_type": "code",
   "execution_count": 53,
   "metadata": {
    "collapsed": false
   },
   "outputs": [],
   "source": [
    "import matplotlib.pyplot as plt\n",
    "%matplotlib inline\n",
    "import numpy as np\n",
    "import pandas as pd\n",
    "import cv2\n",
    "import math\n",
    "from glob import glob\n",
    "import os\n",
    "import sys\n",
    "from keras.models import load_model\n",
    "model = None"
   ]
  },
  {
   "cell_type": "markdown",
   "metadata": {},
   "source": [
    "## Load and preprocess training images"
   ]
  },
  {
   "cell_type": "code",
   "execution_count": 54,
   "metadata": {
    "collapsed": true
   },
   "outputs": [],
   "source": [
    "master = pd.read_csv(\"../input/train_labels.csv\")\n",
    "img_path = \"../input/train/\"\n",
    "\n",
    "y = []\n",
    "file_paths = []\n",
    "for i in range(len(master)):\n",
    "    file_paths.append( img_path + str(master.iloc[i, 0]) +'.jpg' ) # .ix same as .iloc\n",
    "    y.append(master.iloc[i,1])\n",
    "y = np.array(y)"
   ]
  },
  {
   "cell_type": "code",
   "execution_count": 55,
   "metadata": {
    "collapsed": true
   },
   "outputs": [],
   "source": [
    "#image resize & centering & crop \n",
    "\n",
    "def centering_image(img):\n",
    "    size = [256,256]\n",
    "    \n",
    "    img_size = img.shape[:2]\n",
    "    \n",
    "    # centering\n",
    "    row = (size[1] - img_size[0]) // 2\n",
    "    col = (size[0] - img_size[1]) // 2\n",
    "    resized = np.zeros(list(size) + [img.shape[2]], dtype=np.uint8)\n",
    "    resized[row:(row + img.shape[0]), col:(col + img.shape[1])] = img\n",
    "\n",
    "    return resized"
   ]
  },
  {
   "cell_type": "markdown",
   "metadata": {},
   "source": [
    "## Crop images with different sizes"
   ]
  },
  {
   "cell_type": "code",
   "execution_count": 56,
   "metadata": {
    "collapsed": false
   },
   "outputs": [
    {
     "name": "stdout",
     "output_type": "stream",
     "text": [
      " ../input/train/2295.jpg from total 2295 images"
     ]
    }
   ],
   "source": [
    "X = []\n",
    "for file_path in file_paths:\n",
    "    sys.stdout.write(\"\\r {0} from total {1} images\".format(file_path, len(file_paths)))\n",
    "    sys.stdout.flush()\n",
    "    #read image\n",
    "    img = cv2.imread(file_path)\n",
    "    img = cv2.cvtColor(img, cv2.COLOR_BGR2RGB)\n",
    "    sub_images = []\n",
    "    for i in range(3):\n",
    "        dw = img.shape[1] // 4\n",
    "        sub_img = img[:, dw*i:dw*(i+2), :]\n",
    "\n",
    "        #resize\n",
    "        if(sub_img.shape[0] > sub_img.shape[1]):\n",
    "            tile_size = (int(sub_img.shape[1]*256/sub_img.shape[0]),256)\n",
    "        else:\n",
    "            tile_size = (256, int(sub_img.shape[0]*256/sub_img.shape[1]))\n",
    "\n",
    "        #centering\n",
    "        sub_img = centering_image(cv2.resize(sub_img, dsize=tile_size))\n",
    "    \n",
    "        #output 224*224px \n",
    "        sub_img = sub_img[16:240, 16:240]\n",
    "        sub_img = sub_img.astype('float32')\n",
    "        sub_img /= 255.0\n",
    "        sub_images.append(sub_img)\n",
    "    #process whole image\n",
    "    sub_img = img\n",
    "    #resize\n",
    "    if(sub_img.shape[0] > sub_img.shape[1]):\n",
    "        tile_size = (int(sub_img.shape[1]*256/sub_img.shape[0]),256)\n",
    "    else:\n",
    "        tile_size = (256, int(sub_img.shape[0]*256/sub_img.shape[1]))\n",
    "    #centering\n",
    "    sub_img = centering_image(cv2.resize(sub_img, dsize=tile_size))\n",
    "    #output 224*224px \n",
    "    sub_img = sub_img[16:240, 16:240]\n",
    "    sub_img = sub_img.astype('float32')\n",
    "    sub_img /= 255.0\n",
    "    sub_images.append(sub_img)\n",
    "    \n",
    "    X.append(sub_images)\n",
    "\n",
    "X = np.array(X)"
   ]
  },
  {
   "cell_type": "code",
   "execution_count": 57,
   "metadata": {
    "collapsed": false
   },
   "outputs": [
    {
     "data": {
      "text/plain": [
       "(2295, 4, 224, 224, 3)"
      ]
     },
     "execution_count": 57,
     "metadata": {},
     "output_type": "execute_result"
    }
   ],
   "source": [
    "inshape = X.shape\n",
    "inshape"
   ]
  },
  {
   "cell_type": "markdown",
   "metadata": {},
   "source": [
    "## Reshape array X and normalize"
   ]
  },
  {
   "cell_type": "code",
   "execution_count": 58,
   "metadata": {
    "collapsed": true
   },
   "outputs": [],
   "source": [
    "X = X.reshape((-1, ) + inshape[-3:])"
   ]
  },
  {
   "cell_type": "markdown",
   "metadata": {},
   "source": [
    "## Load saved model `VGG16-transferlearning.model`"
   ]
  },
  {
   "cell_type": "code",
   "execution_count": 59,
   "metadata": {
    "collapsed": true
   },
   "outputs": [],
   "source": [
    "if not model: \n",
    "    model = load_model('VGG16-transferlearning.model')"
   ]
  },
  {
   "cell_type": "code",
   "execution_count": 60,
   "metadata": {
    "collapsed": true
   },
   "outputs": [],
   "source": [
    "y_pred = model.predict(X)\n",
    "y_pred = y_pred.reshape(inshape[:2])"
   ]
  },
  {
   "cell_type": "code",
   "execution_count": 61,
   "metadata": {
    "collapsed": true
   },
   "outputs": [],
   "source": [
    "y_pred_mean = np.mean(y_pred, axis=1)\n",
    "y_pred_max = np.amax(y_pred, axis=1)"
   ]
  },
  {
   "cell_type": "markdown",
   "metadata": {},
   "source": [
    "## Compare label and predictions"
   ]
  },
  {
   "cell_type": "code",
   "execution_count": 62,
   "metadata": {
    "collapsed": true
   },
   "outputs": [],
   "source": [
    "y_pred_mean_cls = (y_pred_mean > 0.5).astype('int')\n",
    "y_pred_max_cls = (y_pred_max > 0.5).astype('int')"
   ]
  },
  {
   "cell_type": "code",
   "execution_count": 63,
   "metadata": {
    "collapsed": true
   },
   "outputs": [],
   "source": [
    "df_pred2 = master.copy()\n",
    "df_pred2['prob_mean'] = y_pred_mean\n",
    "df_pred2['pred_mean'] = y_pred_mean_cls\n",
    "df_pred2['prob_max'] = y_pred_max\n",
    "df_pred2['pred_max'] = y_pred_max_cls\n",
    "df_pred2['miscls_mean'] = (df_pred2.invasive == df_pred2.pred_mean).astype('int')\n",
    "df_pred2['miscls_max'] = (df_pred2.invasive == df_pred2.pred_max).astype('int')"
   ]
  },
  {
   "cell_type": "code",
   "execution_count": 64,
   "metadata": {
    "collapsed": false
   },
   "outputs": [
    {
     "name": "stdout",
     "output_type": "stream",
     "text": [
      "misclassified with mean: 26\n",
      "misclassified with max: 44\n"
     ]
    }
   ],
   "source": [
    "print('misclassified with mean: {}'.format(len(df_pred2[df_pred2.miscls_mean==0])))\n",
    "print('misclassified with max: {}'.format(len(df_pred2[df_pred2.miscls_max==0])))"
   ]
  },
  {
   "cell_type": "markdown",
   "metadata": {},
   "source": [
    "# Predict on test dataset\n",
    "\n",
    "## Load and preprocess test images"
   ]
  },
  {
   "cell_type": "code",
   "execution_count": 65,
   "metadata": {
    "collapsed": true
   },
   "outputs": [],
   "source": [
    "sample_submission = pd.read_csv(\"../input/sample_submission.csv\")\n",
    "img_path = \"../input/test/\"\n",
    "\n",
    "test_names = []\n",
    "file_paths = []\n",
    "\n",
    "for i in range(len(sample_submission)):\n",
    "    test_names.append(sample_submission.iloc[i,0])\n",
    "    file_paths.append( img_path + str(int(sample_submission.iloc[i,0])) +'.jpg' )\n",
    "\n",
    "test_names = np.array(test_names)"
   ]
  },
  {
   "cell_type": "code",
   "execution_count": 66,
   "metadata": {
    "collapsed": false
   },
   "outputs": [
    {
     "name": "stdout",
     "output_type": "stream",
     "text": [
      " ../input/test/1531.jpg from total 1531 images"
     ]
    }
   ],
   "source": [
    "X_test = []\n",
    "for file_path in file_paths:\n",
    "    sys.stdout.write(\"\\r {0} from total {1} images\".format(file_path, len(file_paths)))\n",
    "    sys.stdout.flush()\n",
    "    #read image\n",
    "    img = cv2.imread(file_path)\n",
    "    img = cv2.cvtColor(img, cv2.COLOR_BGR2RGB)\n",
    "    sub_images = []\n",
    "    for i in range(3):\n",
    "        dw = img.shape[1] // 4\n",
    "        sub_img = img[:, dw*i:dw*(i+2), :]\n",
    "\n",
    "        #resize\n",
    "        if(sub_img.shape[0] > sub_img.shape[1]):\n",
    "            tile_size = (int(sub_img.shape[1]*256/sub_img.shape[0]),256)\n",
    "        else:\n",
    "            tile_size = (256, int(sub_img.shape[0]*256/sub_img.shape[1]))\n",
    "\n",
    "        #centering\n",
    "        sub_img = centering_image(cv2.resize(sub_img, dsize=tile_size))\n",
    "    \n",
    "        #output 224*224px \n",
    "        sub_img = sub_img[16:240, 16:240]\n",
    "        sub_img = sub_img.astype('float32')\n",
    "        sub_img /= 255.0\n",
    "        sub_images.append(sub_img)\n",
    "    #process whole image\n",
    "    sub_img = img\n",
    "    #resize\n",
    "    if(sub_img.shape[0] > sub_img.shape[1]):\n",
    "        tile_size = (int(sub_img.shape[1]*256/sub_img.shape[0]),256)\n",
    "    else:\n",
    "        tile_size = (256, int(sub_img.shape[0]*256/sub_img.shape[1]))\n",
    "    #centering\n",
    "    sub_img = centering_image(cv2.resize(sub_img, dsize=tile_size))\n",
    "    #output 224*224px \n",
    "    sub_img = sub_img[16:240, 16:240]\n",
    "    sub_img = sub_img.astype('float32')\n",
    "    sub_img /= 255.0\n",
    "    sub_images.append(sub_img)\n",
    "    \n",
    "    X_test.append(sub_images)\n",
    "\n",
    "X_test = np.array(X_test)"
   ]
  },
  {
   "cell_type": "code",
   "execution_count": 68,
   "metadata": {
    "collapsed": false
   },
   "outputs": [
    {
     "data": {
      "text/plain": [
       "(1531, 4, 224, 224, 3)"
      ]
     },
     "execution_count": 68,
     "metadata": {},
     "output_type": "execute_result"
    }
   ],
   "source": [
    "inshape = X_test.shape\n",
    "inshape"
   ]
  },
  {
   "cell_type": "code",
   "execution_count": 70,
   "metadata": {
    "collapsed": true
   },
   "outputs": [],
   "source": [
    "X_test = X_test.reshape((-1, ) + inshape[-3:])"
   ]
  },
  {
   "cell_type": "markdown",
   "metadata": {},
   "source": [
    "## Make predictions"
   ]
  },
  {
   "cell_type": "code",
   "execution_count": 71,
   "metadata": {
    "collapsed": false
   },
   "outputs": [],
   "source": [
    "y_test_pred = model.predict(X_test)\n",
    "y_test_pred = y_test_pred.reshape(inshape[:2])"
   ]
  },
  {
   "cell_type": "code",
   "execution_count": 72,
   "metadata": {
    "collapsed": true
   },
   "outputs": [],
   "source": [
    "y_test_pred_mean = np.mean(y_test_pred, axis=1)\n",
    "y_test_pred_max = np.amax(y_test_pred, axis=1)"
   ]
  },
  {
   "cell_type": "markdown",
   "metadata": {},
   "source": [
    "## Write predictions to file"
   ]
  },
  {
   "cell_type": "code",
   "execution_count": 74,
   "metadata": {
    "collapsed": true
   },
   "outputs": [],
   "source": [
    "def submission_to_csv(test_preds, file_path):\n",
    "    sample_submission = pd.read_csv(\"../input/sample_submission.csv\")\n",
    "    for i, name in enumerate(test_names):\n",
    "        sample_submission.loc[sample_submission['name'] == name, 'invasive'] = test_preds[i]\n",
    "    sample_submission.to_csv(file_path, index=False)"
   ]
  },
  {
   "cell_type": "code",
   "execution_count": null,
   "metadata": {
    "collapsed": true
   },
   "outputs": [],
   "source": [
    "submission_to_csv(test_preds=y_test_pred_mean, file_path='submit_mean.csv')"
   ]
  },
  {
   "cell_type": "code",
   "execution_count": null,
   "metadata": {
    "collapsed": true
   },
   "outputs": [],
   "source": [
    "submission_to_csv(test_preds=y_test_pred_max, file_path='submit_max.csv')"
   ]
  }
 ],
 "metadata": {
  "kernelspec": {
   "display_name": "Python 3",
   "language": "python",
   "name": "python3"
  },
  "language_info": {
   "codemirror_mode": {
    "name": "ipython",
    "version": 3
   },
   "file_extension": ".py",
   "mimetype": "text/x-python",
   "name": "python",
   "nbconvert_exporter": "python",
   "pygments_lexer": "ipython3",
   "version": "3.6.0"
  },
  "toc": {
   "colors": {
    "hover_highlight": "#DAA520",
    "navigate_num": "#000000",
    "navigate_text": "#333333",
    "running_highlight": "#FF0000",
    "selected_highlight": "#FFD700",
    "sidebar_border": "#EEEEEE",
    "wrapper_background": "#FFFFFF"
   },
   "moveMenuLeft": true,
   "nav_menu": {
    "height": "225px",
    "width": "252px"
   },
   "navigate_menu": true,
   "number_sections": true,
   "sideBar": true,
   "threshold": 4,
   "toc_cell": false,
   "toc_section_display": "block",
   "toc_window_display": false,
   "widenNotebook": false
  }
 },
 "nbformat": 4,
 "nbformat_minor": 0
}
