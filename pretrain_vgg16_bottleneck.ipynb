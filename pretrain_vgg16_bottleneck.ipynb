{
 "cells": [
  {
   "cell_type": "markdown",
   "metadata": {},
   "source": [
    "# VGG-16 pretrained model\n",
    "\n",
    "- bottleneck features cached, and train a small nn with bottleneck features.\n",
    "- no data augmentation.\n",
    "- The prediction process is revised, so that one crop 9x9 images to make a compound prediction of the test data."
   ]
  },
  {
   "cell_type": "code",
   "execution_count": 1,
   "metadata": {
    "collapsed": true
   },
   "outputs": [],
   "source": [
    "import matplotlib.pyplot as plt\n",
    "%matplotlib inline\n",
    "import numpy as np\n",
    "import pandas as pd\n",
    "import cv2\n",
    "import math\n",
    "from glob import glob\n",
    "import os\n",
    "import sys\n",
    "import pickle"
   ]
  },
  {
   "cell_type": "markdown",
   "metadata": {},
   "source": [
    "# Preprocessing the training images\n",
    "\n",
    "Prediction labels for training set."
   ]
  },
  {
   "cell_type": "code",
   "execution_count": 2,
   "metadata": {
    "collapsed": true
   },
   "outputs": [],
   "source": [
    "master = pd.read_csv(\"../input/train_labels.csv\")"
   ]
  },
  {
   "cell_type": "markdown",
   "metadata": {},
   "source": [
    "Get input image file paths."
   ]
  },
  {
   "cell_type": "code",
   "execution_count": 3,
   "metadata": {
    "collapsed": false
   },
   "outputs": [
    {
     "name": "stdout",
     "output_type": "stream",
     "text": [
      "fnames: ['../input/train/1.jpg', '../input/train/2.jpg', '../input/train/3.jpg', '../input/train/4.jpg', '../input/train/5.jpg', '../input/train/6.jpg', '../input/train/7.jpg', '../input/train/8.jpg', '../input/train/9.jpg', '../input/train/10.jpg']\n",
      "labels: [0, 0, 1, 0, 1, 0, 1, 1, 0, 0]\n"
     ]
    }
   ],
   "source": [
    "img_path = \"../input/train/\"\n",
    "\n",
    "y = []\n",
    "file_paths = []\n",
    "for i in range(len(master)):\n",
    "    file_paths.append( img_path + str(master.iloc[i, 0]) +'.jpg' ) # .ix same as .iloc\n",
    "    y.append(master.iloc[i,1])\n",
    "print('fnames: {}'.format(file_paths[:10]))\n",
    "print('labels: {}'.format(y[:10]))\n",
    "y = np.array(y)"
   ]
  },
  {
   "cell_type": "markdown",
   "metadata": {},
   "source": [
    "Preprocessing training images."
   ]
  },
  {
   "cell_type": "code",
   "execution_count": 4,
   "metadata": {
    "collapsed": false
   },
   "outputs": [
    {
     "name": "stdout",
     "output_type": "stream",
     "text": [
      " ../input/train/2295.jpg from total 2295 images"
     ]
    }
   ],
   "source": [
    "#image resize & centering & crop \n",
    "\n",
    "def centering_image(img):\n",
    "    size = [256,256]\n",
    "    \n",
    "    img_size = img.shape[:2]\n",
    "    \n",
    "    # centering\n",
    "    row = (size[1] - img_size[0]) // 2\n",
    "    col = (size[0] - img_size[1]) // 2\n",
    "    resized = np.zeros(list(size) + [img.shape[2]], dtype=np.uint8)\n",
    "    resized[row:(row + img.shape[0]), col:(col + img.shape[1])] = img\n",
    "\n",
    "    return resized\n",
    "\n",
    "\n",
    "X = []\n",
    "for i, file_path in enumerate(file_paths):\n",
    "    sys.stdout.write(\"\\r {0} from total {1} images\".format(file_path, len(file_paths)))\n",
    "    sys.stdout.flush()\n",
    "    #read image\n",
    "    img = cv2.imread(file_path)\n",
    "    img = cv2.cvtColor(img, cv2.COLOR_BGR2RGB)\n",
    "    \n",
    "    #resize\n",
    "    if(img.shape[0] > img.shape[1]):\n",
    "        tile_size = (int(img.shape[1]*256/img.shape[0]),256)\n",
    "    else:\n",
    "        tile_size = (256, int(img.shape[0]*256/img.shape[1]))\n",
    "    img = cv2.resize(img, dsize=tile_size)\n",
    "\n",
    "    #centering\n",
    "    img = centering_image(img)\n",
    "\n",
    "    #out put 224*224px \n",
    "    img = img[16:240, 16:240]\n",
    "\n",
    "    X.append(img)\n",
    "\n",
    "X = np.array(X)"
   ]
  },
  {
   "cell_type": "markdown",
   "metadata": {},
   "source": [
    "# Find file_path for test images and preprocessing"
   ]
  },
  {
   "cell_type": "markdown",
   "metadata": {},
   "source": [
    "Find all test image file path_file names."
   ]
  },
  {
   "cell_type": "code",
   "execution_count": 5,
   "metadata": {
    "collapsed": false
   },
   "outputs": [
    {
     "name": "stdout",
     "output_type": "stream",
     "text": [
      "test file path: ['../input/test/1.jpg', '../input/test/2.jpg', '../input/test/3.jpg', '../input/test/4.jpg', '../input/test/5.jpg', '../input/test/6.jpg', '../input/test/7.jpg', '../input/test/8.jpg', '../input/test/9.jpg', '../input/test/10.jpg']\n"
     ]
    }
   ],
   "source": [
    "sample_submission = pd.read_csv(\"../input/sample_submission.csv\")\n",
    "img_path = \"../input/test/\"\n",
    "\n",
    "test_names = []\n",
    "file_paths = []\n",
    "\n",
    "for i in range(len(sample_submission)):\n",
    "    test_names.append(sample_submission.iloc[i,0])\n",
    "    file_paths.append( img_path + str(int(sample_submission.iloc[i,0])) +'.jpg' )\n",
    "\n",
    "print('test file path: {}'.format(file_paths[:10]))    \n",
    "test_names = np.array(test_names)"
   ]
  },
  {
   "cell_type": "markdown",
   "metadata": {},
   "source": [
    "Preprocess test images."
   ]
  },
  {
   "cell_type": "code",
   "execution_count": 39,
   "metadata": {
    "collapsed": false
   },
   "outputs": [
    {
     "name": "stdout",
     "output_type": "stream",
     "text": [
      " ../input/test/1531.jpg from total 1531 images"
     ]
    }
   ],
   "source": [
    "test_images = []\n",
    "for file_path in file_paths:\n",
    "    sys.stdout.write(\"\\r {0} from total {1} images\".format(file_path, len(file_paths)))\n",
    "    sys.stdout.flush()\n",
    "    #read image\n",
    "    img = cv2.imread(file_path)\n",
    "    img = cv2.cvtColor(img, cv2.COLOR_BGR2RGB)\n",
    "    ll, ww = img.shape[0]//3, img.shape[1]//3\n",
    "    sub_images = []\n",
    "    for i in range(3):\n",
    "        for j in range(3):\n",
    "            sub_img = img[i*ll:(i+1)*ll, j*ww:(j+1)*ww, :]\n",
    "\n",
    "            #resize\n",
    "            if(sub_img.shape[0] > sub_img.shape[1]):\n",
    "                tile_size = (int(sub_img.shape[1]*256/sub_img.shape[0]),256)\n",
    "            else:\n",
    "                tile_size = (256, int(sub_img.shape[0]*256/sub_img.shape[1]))\n",
    "\n",
    "            #centering\n",
    "            sub_img = centering_image(cv2.resize(sub_img, dsize=tile_size))\n",
    "    \n",
    "            #output 224*224px \n",
    "            sub_img = sub_img[16:240, 16:240]\n",
    "            sub_images.append(sub_img)\n",
    "    test_images.append(sub_images)\n",
    "\n",
    "test_images = np.array(test_images)"
   ]
  },
  {
   "cell_type": "code",
   "execution_count": 40,
   "metadata": {
    "collapsed": false
   },
   "outputs": [
    {
     "data": {
      "text/plain": [
       "(1531, 9, 224, 224, 3)"
      ]
     },
     "execution_count": 40,
     "metadata": {},
     "output_type": "execute_result"
    }
   ],
   "source": [
    "inshape = test_images.shape\n",
    "inshape"
   ]
  },
  {
   "cell_type": "markdown",
   "metadata": {},
   "source": [
    "# Train-Validation splitting"
   ]
  },
  {
   "cell_type": "code",
   "execution_count": 8,
   "metadata": {
    "collapsed": false
   },
   "outputs": [
    {
     "name": "stdout",
     "output_type": "stream",
     "text": [
      "X_train (1836, 224, 224, 3)\n",
      "y_train (1836,)\n",
      "X_val (459, 224, 224, 3)\n",
      "y_val (459,)\n"
     ]
    }
   ],
   "source": [
    "from sklearn.model_selection import train_test_split\n",
    "X_train, X_val, y_train, y_val = train_test_split(X, y, test_size=0.2, random_state=2017)\n",
    "\n",
    "print('X_train', X_train.shape)\n",
    "print('y_train', y_train.shape)\n",
    "print('X_val', X_val.shape)\n",
    "print('y_val', y_val.shape)"
   ]
  },
  {
   "cell_type": "markdown",
   "metadata": {},
   "source": [
    "Normalized to put into vgg."
   ]
  },
  {
   "cell_type": "code",
   "execution_count": 9,
   "metadata": {
    "collapsed": true
   },
   "outputs": [],
   "source": [
    "X_train = X_train.astype('float32')\n",
    "X_val = X_val.astype('float32')\n",
    "X_train /= 255\n",
    "X_val /= 255"
   ]
  },
  {
   "cell_type": "markdown",
   "metadata": {},
   "source": [
    "# Using Keras VGG-16 pretrained model"
   ]
  },
  {
   "cell_type": "markdown",
   "metadata": {},
   "source": [
    "## Loading VGG-16 pretrained model in Keras"
   ]
  },
  {
   "cell_type": "code",
   "execution_count": 10,
   "metadata": {
    "collapsed": false,
    "scrolled": false
   },
   "outputs": [
    {
     "name": "stderr",
     "output_type": "stream",
     "text": [
      "Using TensorFlow backend.\n"
     ]
    }
   ],
   "source": [
    "from keras.models import Sequential, Model, load_model\n",
    "from keras import applications\n",
    "from keras import optimizers\n",
    "from keras.layers import Dropout, Flatten, Dense\n",
    "\n",
    "img_rows, img_cols, img_channel = 224, 224, 3\n",
    "\n",
    "vgg16 = applications.VGG16(weights='imagenet', include_top=True, input_shape=(img_rows, img_cols, img_channel))"
   ]
  },
  {
   "cell_type": "code",
   "execution_count": 11,
   "metadata": {
    "collapsed": false
   },
   "outputs": [
    {
     "name": "stdout",
     "output_type": "stream",
     "text": [
      "_________________________________________________________________\n",
      "Layer (type)                 Output Shape              Param #   \n",
      "=================================================================\n",
      "input_1 (InputLayer)         (None, 224, 224, 3)       0         \n",
      "_________________________________________________________________\n",
      "block1_conv1 (Conv2D)        (None, 224, 224, 64)      1792      \n",
      "_________________________________________________________________\n",
      "block1_conv2 (Conv2D)        (None, 224, 224, 64)      36928     \n",
      "_________________________________________________________________\n",
      "block1_pool (MaxPooling2D)   (None, 112, 112, 64)      0         \n",
      "_________________________________________________________________\n",
      "block2_conv1 (Conv2D)        (None, 112, 112, 128)     73856     \n",
      "_________________________________________________________________\n",
      "block2_conv2 (Conv2D)        (None, 112, 112, 128)     147584    \n",
      "_________________________________________________________________\n",
      "block2_pool (MaxPooling2D)   (None, 56, 56, 128)       0         \n",
      "_________________________________________________________________\n",
      "block3_conv1 (Conv2D)        (None, 56, 56, 256)       295168    \n",
      "_________________________________________________________________\n",
      "block3_conv2 (Conv2D)        (None, 56, 56, 256)       590080    \n",
      "_________________________________________________________________\n",
      "block3_conv3 (Conv2D)        (None, 56, 56, 256)       590080    \n",
      "_________________________________________________________________\n",
      "block3_pool (MaxPooling2D)   (None, 28, 28, 256)       0         \n",
      "_________________________________________________________________\n",
      "block4_conv1 (Conv2D)        (None, 28, 28, 512)       1180160   \n",
      "_________________________________________________________________\n",
      "block4_conv2 (Conv2D)        (None, 28, 28, 512)       2359808   \n",
      "_________________________________________________________________\n",
      "block4_conv3 (Conv2D)        (None, 28, 28, 512)       2359808   \n",
      "_________________________________________________________________\n",
      "block4_pool (MaxPooling2D)   (None, 14, 14, 512)       0         \n",
      "_________________________________________________________________\n",
      "block5_conv1 (Conv2D)        (None, 14, 14, 512)       2359808   \n",
      "_________________________________________________________________\n",
      "block5_conv2 (Conv2D)        (None, 14, 14, 512)       2359808   \n",
      "_________________________________________________________________\n",
      "block5_conv3 (Conv2D)        (None, 14, 14, 512)       2359808   \n",
      "_________________________________________________________________\n",
      "block5_pool (MaxPooling2D)   (None, 7, 7, 512)         0         \n",
      "_________________________________________________________________\n",
      "flatten (Flatten)            (None, 25088)             0         \n",
      "_________________________________________________________________\n",
      "fc1 (Dense)                  (None, 4096)              102764544 \n",
      "_________________________________________________________________\n",
      "fc2 (Dense)                  (None, 4096)              16781312  \n",
      "_________________________________________________________________\n",
      "predictions (Dense)          (None, 1000)              4097000   \n",
      "=================================================================\n",
      "Total params: 138,357,544\n",
      "Trainable params: 138,357,544\n",
      "Non-trainable params: 0\n",
      "_________________________________________________________________\n"
     ]
    }
   ],
   "source": [
    "vgg16.summary()"
   ]
  },
  {
   "cell_type": "markdown",
   "metadata": {},
   "source": [
    "## Build feature extractor using low-level layers up to `fc2` Dense layer"
   ]
  },
  {
   "cell_type": "code",
   "execution_count": 12,
   "metadata": {
    "collapsed": false
   },
   "outputs": [],
   "source": [
    "preds = vgg16.get_layer('fc2').output"
   ]
  },
  {
   "cell_type": "code",
   "execution_count": 13,
   "metadata": {
    "collapsed": true
   },
   "outputs": [],
   "source": [
    "feat_extractor = Model(vgg16.input, preds)"
   ]
  },
  {
   "cell_type": "markdown",
   "metadata": {},
   "source": [
    "## Sample feature generated from the feature extractor"
   ]
  },
  {
   "cell_type": "code",
   "execution_count": 14,
   "metadata": {
    "collapsed": false
   },
   "outputs": [],
   "source": [
    "sample_feat = feat_extractor.predict(X_train[1].reshape((1,) + X_train[1].shape))"
   ]
  },
  {
   "cell_type": "code",
   "execution_count": 15,
   "metadata": {
    "collapsed": false
   },
   "outputs": [
    {
     "data": {
      "text/plain": [
       "(1, 4096)"
      ]
     },
     "execution_count": 15,
     "metadata": {},
     "output_type": "execute_result"
    }
   ],
   "source": [
    "sample_feat.shape"
   ]
  },
  {
   "cell_type": "code",
   "execution_count": 16,
   "metadata": {
    "collapsed": false
   },
   "outputs": [
    {
     "data": {
      "image/png": "[encoded data removed]",
      "text/plain": [
       "<matplotlib.figure.Figure at 0x7f36eeac9b00>"
      ]
     },
     "metadata": {},
     "output_type": "display_data"
    }
   ],
   "source": [
    "img_tmp = sample_feat\n",
    "img_tmp = img_tmp.reshape((-1, 64))\n",
    "plt.imshow(img_tmp, interpolation='nearest', cmap='Reds', aspect='auto')\n",
    "plt.show()"
   ]
  },
  {
   "cell_type": "markdown",
   "metadata": {},
   "source": [
    "# Calculate transfer values and dump to file"
   ]
  },
  {
   "cell_type": "code",
   "execution_count": 17,
   "metadata": {
    "collapsed": true
   },
   "outputs": [],
   "source": [
    "data_path = '../input/'\n",
    "file_path_cache_train = os.path.join(data_path, 'vgg16_invasive_train.pkl')\n",
    "file_path_cache_val = os.path.join(data_path, 'vgg16_invasive_val.pkl')"
   ]
  },
  {
   "cell_type": "code",
   "execution_count": 18,
   "metadata": {
    "collapsed": false
   },
   "outputs": [],
   "source": [
    "# calculate tranfer values and cache to file\n",
    "def transfer_values_cache(images, image_path, model):\n",
    "    if os.path.exists(image_path):\n",
    "        with open(image_path, mode='rb') as file:\n",
    "            transfer_values = pickle.load(file)\n",
    "        print(\"- Data loaded from cache file: {}\".format(image_path))\n",
    "    else:\n",
    "        sample_size = images.shape[0]\n",
    "        transfer_values = process_images(images, model)\n",
    "        transfer_values = transfer_values.reshape(sample_size, -1)\n",
    "        with open(image_path, mode='wb') as file:\n",
    "            pickle.dump(transfer_values, file)\n",
    "        print(\"- Data saved to cache file: {}\".format(image_path))\n",
    "    \n",
    "    return transfer_values\n",
    "\n",
    "def process_images(images, model):\n",
    "    num_images = images.shape[0]\n",
    "    res = [None] * num_images\n",
    "    for i in range(num_images):\n",
    "        msg = \"\\r- Processing image: {0:>6} / {1}\".format(i+1, num_images)\n",
    "        sys.stdout.write(msg)\n",
    "        sys.stdout.flush()\n",
    "        \n",
    "        res[i] = model.predict(images[i].reshape((1,) + images[i].shape))\n",
    "    print()\n",
    "    res = np.array(res)\n",
    "    return res"
   ]
  },
  {
   "cell_type": "code",
   "execution_count": 19,
   "metadata": {
    "collapsed": false
   },
   "outputs": [
    {
     "name": "stdout",
     "output_type": "stream",
     "text": [
      "- Data loaded from cache file: ../input/vgg16_invasive_train.pkl\n",
      "- Data loaded from cache file: ../input/vgg16_invasive_val.pkl\n"
     ]
    }
   ],
   "source": [
    "transfer_values_train = transfer_values_cache(X_train, file_path_cache_train, feat_extractor)\n",
    "transfer_values_val = transfer_values_cache(X_val, file_path_cache_val, feat_extractor)"
   ]
  },
  {
   "cell_type": "markdown",
   "metadata": {},
   "source": [
    "# Analysis of transfer values\n",
    "\n",
    "## PCA analysis\n",
    "\n",
    "Different classes still mixed in PCA feature"
   ]
  },
  {
   "cell_type": "code",
   "execution_count": 20,
   "metadata": {
    "collapsed": false
   },
   "outputs": [
    {
     "name": "stdout",
     "output_type": "stream",
     "text": [
      "(1836, 4096)\n",
      "(1836, 2)\n"
     ]
    }
   ],
   "source": [
    "from sklearn.decomposition import PCA\n",
    "pca = PCA(n_components=2)\n",
    "\n",
    "cls = y_train\n",
    "print(transfer_values_train.shape)\n",
    "\n",
    "transfer_values_reduced = pca.fit_transform(transfer_values_train)\n",
    "print(transfer_values_reduced.shape)"
   ]
  },
  {
   "cell_type": "code",
   "execution_count": 21,
   "metadata": {
    "collapsed": true
   },
   "outputs": [],
   "source": [
    "num_classes = 2\n",
    "def plot_scatter(values, cls):\n",
    "    # Create a color-map with a different color for each class.\n",
    "    import matplotlib.cm as cm\n",
    "    cmap = cm.rainbow(np.linspace(0.0, 1.0, num_classes))\n",
    "\n",
    "    # Get the color for each sample.\n",
    "    colors = cmap[cls]\n",
    "\n",
    "    # Extract the x- and y-values.\n",
    "    x = values[:, 0]\n",
    "    y = values[:, 1]\n",
    "\n",
    "    # Plot it.\n",
    "    plt.scatter(x, y, color=colors)\n",
    "    plt.show()"
   ]
  },
  {
   "cell_type": "code",
   "execution_count": 22,
   "metadata": {
    "collapsed": false
   },
   "outputs": [
    {
     "data": {
      "image/png": "[encoded data removed]",
      "text/plain": [
       "<matplotlib.figure.Figure at 0x7f36dc1fa710>"
      ]
     },
     "metadata": {},
     "output_type": "display_data"
    }
   ],
   "source": [
    "plot_scatter(transfer_values_reduced, cls)"
   ]
  },
  {
   "cell_type": "markdown",
   "metadata": {},
   "source": [
    "## t_SNE analysis"
   ]
  },
  {
   "cell_type": "code",
   "execution_count": 23,
   "metadata": {
    "collapsed": false
   },
   "outputs": [
    {
     "data": {
      "text/plain": [
       "(1836, 2)"
      ]
     },
     "execution_count": 23,
     "metadata": {},
     "output_type": "execute_result"
    }
   ],
   "source": [
    "from sklearn.manifold import TSNE\n",
    "\n",
    "pca = PCA(n_components=200)\n",
    "transfer_values_50d = pca.fit_transform(transfer_values_train)\n",
    "\n",
    "tsne = TSNE(n_components=2)\n",
    "transfer_values_reduced = tsne.fit_transform(transfer_values_50d) \n",
    "\n",
    "transfer_values_reduced.shape"
   ]
  },
  {
   "cell_type": "code",
   "execution_count": 24,
   "metadata": {
    "collapsed": false
   },
   "outputs": [
    {
     "data": {
      "image/png": "[encoded data removed]",
      "text/plain": [
       "<matplotlib.figure.Figure at 0x7f36dc17f208>"
      ]
     },
     "metadata": {},
     "output_type": "display_data"
    }
   ],
   "source": [
    "plot_scatter(transfer_values_reduced, cls)"
   ]
  },
  {
   "cell_type": "markdown",
   "metadata": {},
   "source": [
    "# New neural network classifier"
   ]
  },
  {
   "cell_type": "markdown",
   "metadata": {},
   "source": [
    "## Model building"
   ]
  },
  {
   "cell_type": "code",
   "execution_count": 25,
   "metadata": {
    "collapsed": false
   },
   "outputs": [],
   "source": [
    "nn = Sequential()\n",
    "nn.add(Dense(256, input_dim=transfer_values_train.shape[1], activation='relu'))\n",
    "nn.add(Dropout(0.5))\n",
    "nn.add(Dense(1, activation='sigmoid'))\n",
    "nn.compile(loss='binary_crossentropy', optimizer=optimizers.Adam(lr=1e-3, decay=0.5), metrics=['accuracy'])"
   ]
  },
  {
   "cell_type": "markdown",
   "metadata": {},
   "source": [
    "## Model training"
   ]
  },
  {
   "cell_type": "code",
   "execution_count": 26,
   "metadata": {
    "collapsed": false
   },
   "outputs": [
    {
     "name": "stdout",
     "output_type": "stream",
     "text": [
      "Train on 1836 samples, validate on 459 samples\n",
      "Epoch 1/50\n",
      "1s - loss: 0.8623 - acc: 0.5942 - val_loss: 0.5589 - val_acc: 0.6013\n",
      "Epoch 2/50\n",
      "1s - loss: 0.6154 - acc: 0.6694 - val_loss: 0.5529 - val_acc: 0.6013\n",
      "Epoch 3/50\n",
      "1s - loss: 0.5733 - acc: 0.6961 - val_loss: 0.5016 - val_acc: 0.7647\n",
      "Epoch 4/50\n",
      "0s - loss: 0.5367 - acc: 0.7200 - val_loss: 0.5024 - val_acc: 0.7364\n",
      "Epoch 5/50\n",
      "0s - loss: 0.5127 - acc: 0.7402 - val_loss: 0.4871 - val_acc: 0.7734\n",
      "Epoch 6/50\n",
      "0s - loss: 0.5129 - acc: 0.7418 - val_loss: 0.4834 - val_acc: 0.7734\n",
      "Epoch 7/50\n",
      "1s - loss: 0.4964 - acc: 0.7593 - val_loss: 0.4784 - val_acc: 0.7865\n",
      "Epoch 8/50\n",
      "1s - loss: 0.5037 - acc: 0.7380 - val_loss: 0.4692 - val_acc: 0.7952\n",
      "Epoch 9/50\n",
      "0s - loss: 0.4838 - acc: 0.7653 - val_loss: 0.4787 - val_acc: 0.7734\n",
      "Epoch 10/50\n",
      "0s - loss: 0.4856 - acc: 0.7598 - val_loss: 0.4735 - val_acc: 0.7865\n",
      "Epoch 11/50\n",
      "0s - loss: 0.4848 - acc: 0.7647 - val_loss: 0.4695 - val_acc: 0.7908\n",
      "Epoch 12/50\n",
      "1s - loss: 0.4749 - acc: 0.7642 - val_loss: 0.4665 - val_acc: 0.7974\n",
      "Epoch 13/50\n",
      "0s - loss: 0.4662 - acc: 0.7865 - val_loss: 0.4604 - val_acc: 0.7974\n",
      "Epoch 14/50\n",
      "0s - loss: 0.4720 - acc: 0.7778 - val_loss: 0.4607 - val_acc: 0.7974\n",
      "Epoch 15/50\n",
      "0s - loss: 0.4630 - acc: 0.7761 - val_loss: 0.4587 - val_acc: 0.7952\n",
      "Epoch 16/50\n",
      "0s - loss: 0.4634 - acc: 0.7838 - val_loss: 0.4552 - val_acc: 0.7974\n",
      "Epoch 17/50\n",
      "0s - loss: 0.4560 - acc: 0.7958 - val_loss: 0.4576 - val_acc: 0.7974\n",
      "Epoch 18/50\n",
      "1s - loss: 0.4553 - acc: 0.7870 - val_loss: 0.4516 - val_acc: 0.7952\n",
      "Epoch 19/50\n",
      "1s - loss: 0.4619 - acc: 0.7854 - val_loss: 0.4524 - val_acc: 0.7996\n",
      "Epoch 20/50\n",
      "0s - loss: 0.4540 - acc: 0.7947 - val_loss: 0.4534 - val_acc: 0.7974\n",
      "Epoch 21/50\n",
      "1s - loss: 0.4561 - acc: 0.7794 - val_loss: 0.4503 - val_acc: 0.7996\n",
      "Epoch 22/50\n",
      "1s - loss: 0.4522 - acc: 0.7892 - val_loss: 0.4493 - val_acc: 0.7974\n",
      "Epoch 23/50\n",
      "1s - loss: 0.4559 - acc: 0.7968 - val_loss: 0.4486 - val_acc: 0.7996\n",
      "Epoch 24/50\n",
      "1s - loss: 0.4521 - acc: 0.7876 - val_loss: 0.4466 - val_acc: 0.7952\n",
      "Epoch 25/50\n",
      "1s - loss: 0.4496 - acc: 0.7941 - val_loss: 0.4474 - val_acc: 0.7996\n",
      "Epoch 26/50\n",
      "1s - loss: 0.4515 - acc: 0.7930 - val_loss: 0.4460 - val_acc: 0.7974\n",
      "Epoch 27/50\n",
      "1s - loss: 0.4481 - acc: 0.7952 - val_loss: 0.4452 - val_acc: 0.7952\n",
      "Epoch 28/50\n",
      "1s - loss: 0.4545 - acc: 0.7876 - val_loss: 0.4449 - val_acc: 0.7996\n",
      "Epoch 29/50\n",
      "1s - loss: 0.4482 - acc: 0.7996 - val_loss: 0.4416 - val_acc: 0.7952\n",
      "Epoch 30/50\n",
      "1s - loss: 0.4514 - acc: 0.7832 - val_loss: 0.4398 - val_acc: 0.7952\n",
      "Epoch 31/50\n",
      "1s - loss: 0.4492 - acc: 0.7838 - val_loss: 0.4414 - val_acc: 0.7952\n",
      "Epoch 32/50\n",
      "1s - loss: 0.4473 - acc: 0.7958 - val_loss: 0.4419 - val_acc: 0.7952\n",
      "Epoch 33/50\n",
      "1s - loss: 0.4421 - acc: 0.8088 - val_loss: 0.4411 - val_acc: 0.7952\n",
      "Epoch 34/50\n",
      "1s - loss: 0.4448 - acc: 0.7930 - val_loss: 0.4405 - val_acc: 0.7952\n",
      "Epoch 35/50\n",
      "1s - loss: 0.4445 - acc: 0.8028 - val_loss: 0.4409 - val_acc: 0.7974\n",
      "Epoch 36/50\n",
      "1s - loss: 0.4495 - acc: 0.7936 - val_loss: 0.4406 - val_acc: 0.7974\n",
      "Epoch 37/50\n",
      "1s - loss: 0.4437 - acc: 0.7925 - val_loss: 0.4377 - val_acc: 0.7952\n",
      "Epoch 38/50\n",
      "1s - loss: 0.4390 - acc: 0.7925 - val_loss: 0.4376 - val_acc: 0.7952\n",
      "Epoch 39/50\n",
      "0s - loss: 0.4416 - acc: 0.7887 - val_loss: 0.4364 - val_acc: 0.7952\n",
      "Epoch 40/50\n",
      "1s - loss: 0.4425 - acc: 0.7941 - val_loss: 0.4367 - val_acc: 0.7952\n",
      "Epoch 41/50\n",
      "1s - loss: 0.4462 - acc: 0.7838 - val_loss: 0.4358 - val_acc: 0.7952\n",
      "Epoch 42/50\n",
      "1s - loss: 0.4411 - acc: 0.7979 - val_loss: 0.4370 - val_acc: 0.7952\n",
      "Epoch 43/50\n",
      "1s - loss: 0.4424 - acc: 0.7974 - val_loss: 0.4360 - val_acc: 0.7974\n",
      "Epoch 44/50\n",
      "1s - loss: 0.4419 - acc: 0.7930 - val_loss: 0.4360 - val_acc: 0.7952\n",
      "Epoch 45/50\n",
      "1s - loss: 0.4325 - acc: 0.8083 - val_loss: 0.4357 - val_acc: 0.7952\n",
      "Epoch 46/50\n",
      "0s - loss: 0.4403 - acc: 0.7974 - val_loss: 0.4351 - val_acc: 0.7974\n",
      "Epoch 47/50\n",
      "1s - loss: 0.4495 - acc: 0.7952 - val_loss: 0.4340 - val_acc: 0.7952\n",
      "Epoch 48/50\n",
      "1s - loss: 0.4398 - acc: 0.8077 - val_loss: 0.4339 - val_acc: 0.7952\n",
      "Epoch 49/50\n",
      "1s - loss: 0.4402 - acc: 0.7979 - val_loss: 0.4331 - val_acc: 0.7952\n",
      "Epoch 50/50\n",
      "1s - loss: 0.4408 - acc: 0.7952 - val_loss: 0.4328 - val_acc: 0.7952\n"
     ]
    }
   ],
   "source": [
    "from keras.preprocessing.image import ImageDataGenerator\n",
    "from keras.callbacks import ModelCheckpoint\n",
    "\n",
    "batch_size = 32\n",
    "epochs = 50\n",
    "\n",
    "history = nn.fit(\n",
    "    transfer_values_train, y_train, batch_size=batch_size,\n",
    "    epochs=epochs,\n",
    "    validation_data=(transfer_values_val, y_val),\n",
    "    verbose=2,\n",
    "    callbacks=[ModelCheckpoint('VGG16-transferlearning.model', monitor='val_acc', save_best_only=True)])"
   ]
  },
  {
   "cell_type": "code",
   "execution_count": 27,
   "metadata": {
    "collapsed": true
   },
   "outputs": [],
   "source": [
    "del transfer_values_train, transfer_values_val"
   ]
  },
  {
   "cell_type": "code",
   "execution_count": 28,
   "metadata": {
    "collapsed": false
   },
   "outputs": [],
   "source": [
    "del X, y, X_train, y_train, X_val, y_val"
   ]
  },
  {
   "cell_type": "markdown",
   "metadata": {},
   "source": [
    "# Prediction on test data"
   ]
  },
  {
   "cell_type": "code",
   "execution_count": 31,
   "metadata": {
    "collapsed": false
   },
   "outputs": [
    {
     "name": "stdout",
     "output_type": "stream",
     "text": [
      "(13779, 224, 224, 3)\n"
     ]
    }
   ],
   "source": [
    "test_images = test_images.reshape((-1,) + test_images.shape[-3:])"
   ]
  },
  {
   "cell_type": "code",
   "execution_count": 35,
   "metadata": {
    "collapsed": false
   },
   "outputs": [],
   "source": [
    "import dask.array as da\n",
    "test_images_dask = da.from_array(test_images, chunks=(1, 224, 244, 3))\n",
    "test_images_dask = test_images_dask.astype(np.float32)\n",
    "test_images_dask /= 255.0"
   ]
  },
  {
   "cell_type": "code",
   "execution_count": 36,
   "metadata": {
    "collapsed": false
   },
   "outputs": [
    {
     "name": "stdout",
     "output_type": "stream",
     "text": [
      "- Processing image:  13779 / 13779\n",
      "- Data saved to cache file: ../input/vgg16_invasive_test.pkl\n"
     ]
    }
   ],
   "source": [
    "file_path_cache_test = os.path.join(data_path, 'vgg16_invasive_test.pkl')\n",
    "transfer_values_test = transfer_values_cache(test_images, file_path_cache_test, feat_extractor)"
   ]
  },
  {
   "cell_type": "code",
   "execution_count": 37,
   "metadata": {
    "collapsed": false
   },
   "outputs": [],
   "source": [
    "test_preds = nn.predict(transfer_values_test)"
   ]
  },
  {
   "cell_type": "code",
   "execution_count": 41,
   "metadata": {
    "collapsed": false
   },
   "outputs": [],
   "source": [
    "test_preds = test_preds.reshape(inshape[:2])"
   ]
  },
  {
   "cell_type": "code",
   "execution_count": 42,
   "metadata": {
    "collapsed": false
   },
   "outputs": [],
   "source": [
    "test_preds = np.amax(test_preds, axis=1)"
   ]
  },
  {
   "cell_type": "code",
   "execution_count": 43,
   "metadata": {
    "collapsed": false
   },
   "outputs": [
    {
     "data": {
      "text/plain": [
       "array([ 0.99798656,  0.98918205,  0.85083729,  0.95528501,  0.99858224,\n",
       "        0.92645794,  0.9485932 ,  0.99992204,  0.99995911,  0.98953784], dtype=float32)"
      ]
     },
     "execution_count": 43,
     "metadata": {},
     "output_type": "execute_result"
    }
   ],
   "source": [
    "test_preds[:10]"
   ]
  },
  {
   "cell_type": "markdown",
   "metadata": {
    "collapsed": true
   },
   "source": [
    "## Write predictions to file"
   ]
  },
  {
   "cell_type": "code",
   "execution_count": 44,
   "metadata": {
    "collapsed": true
   },
   "outputs": [],
   "source": [
    "sample_submission = pd.read_csv(\"../input/sample_submission.csv\")\n",
    "\n",
    "for i, name in enumerate(test_names):\n",
    "    sample_submission.loc[sample_submission['name'] == name, 'invasive'] = test_preds[i]\n",
    "\n",
    "sample_submission.to_csv(\"submit.csv\", index=False)"
   ]
  },
  {
   "cell_type": "markdown",
   "metadata": {
    "collapsed": true
   },
   "source": [
    "# Conclusion\n",
    "\n",
    "Interestingly, even though, the trained nn model with bottle-neck feature inputs only leads to a best accuracy of 0.79, the prediction on test images based on 9x9 cropping gives a final lead board score of 0.878. This is much higher than the valdiation predictions."
   ]
  }
 ],
 "metadata": {
  "kernelspec": {
   "display_name": "Python 3",
   "language": "python",
   "name": "python3"
  },
  "language_info": {
   "codemirror_mode": {
    "name": "ipython",
    "version": 3
   },
   "file_extension": ".py",
   "mimetype": "text/x-python",
   "name": "python",
   "nbconvert_exporter": "python",
   "pygments_lexer": "ipython3",
   "version": "3.6.0"
  },
  "toc": {
   "colors": {
    "hover_highlight": "#DAA520",
    "navigate_num": "#000000",
    "navigate_text": "#333333",
    "running_highlight": "#FF0000",
    "selected_highlight": "#FFD700",
    "sidebar_border": "#EEEEEE",
    "wrapper_background": "#FFFFFF"
   },
   "moveMenuLeft": true,
   "nav_menu": {
    "height": "333px",
    "width": "252px"
   },
   "navigate_menu": true,
   "number_sections": true,
   "sideBar": true,
   "threshold": 4,
   "toc_cell": false,
   "toc_section_display": "block",
   "toc_window_display": false,
   "widenNotebook": false
  }
 },
 "nbformat": 4,
 "nbformat_minor": 2
}
